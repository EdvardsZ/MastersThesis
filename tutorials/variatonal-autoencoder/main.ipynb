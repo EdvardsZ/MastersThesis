{
 "cells": [
  {
   "cell_type": "code",
   "execution_count": 1,
   "metadata": {},
   "outputs": [],
   "source": [
    "import torch\n",
    "from torchvision import datasets\n",
    "from torchvision import transforms\n",
    "import matplotlib.pyplot as plt\n",
    "import os\n",
    "import time\n",
    "from tqdm.notebook import tqdm\n",
    "\n",
    "BATCH_SIZE = 100\n",
    "\n",
    "device = torch.device('cuda' if torch.cuda.is_available() else 'cpu')\n",
    "\n",
    "train_set = datasets.MNIST(root='data', train=True, download=True, transform=transforms.ToTensor())\n",
    "test_val_set = datasets.MNIST(root='data', train=False, download=True, transform=transforms.ToTensor())\n",
    "# split test and validation set\n",
    "test_size = 0.5\n",
    "test_set_size = int(len(test_val_set) * test_size)\n",
    "val_set_size = len(test_val_set) - test_set_size\n",
    "test_set, val_set = torch.utils.data.random_split(test_val_set, [test_set_size, val_set_size])\n",
    "\n",
    "train_loader = torch.utils.data.DataLoader(dataset=train_set, batch_size=BATCH_SIZE, shuffle=True)\n",
    "val_loader = torch.utils.data.DataLoader(dataset=val_set, batch_size=BATCH_SIZE, shuffle=False)\n",
    "test_loader = torch.utils.data.DataLoader(dataset=test_set, batch_size=BATCH_SIZE, shuffle=False)\n"
   ]
  },
  {
   "cell_type": "code",
   "execution_count": 2,
   "metadata": {},
   "outputs": [
    {
     "name": "stdout",
     "output_type": "stream",
     "text": [
      "VAE(\n",
      "  (encoder): Encoder(\n",
      "    (encode): Sequential(\n",
      "      (0): Conv2d(1, 16, kernel_size=(5, 5), stride=(1, 1))\n",
      "      (1): BatchNorm2d(16, eps=1e-05, momentum=0.1, affine=True, track_running_stats=True)\n",
      "      (2): ReLU(inplace=True)\n",
      "      (3): Conv2d(16, 32, kernel_size=(5, 5), stride=(1, 1))\n",
      "      (4): BatchNorm2d(32, eps=1e-05, momentum=0.1, affine=True, track_running_stats=True)\n",
      "      (5): ReLU(inplace=True)\n",
      "      (6): MaxPool2d(kernel_size=2, stride=2, padding=0, dilation=1, ceil_mode=False)\n",
      "      (7): Conv2d(32, 64, kernel_size=(3, 3), stride=(1, 1))\n",
      "      (8): BatchNorm2d(64, eps=1e-05, momentum=0.1, affine=True, track_running_stats=True)\n",
      "      (9): ReLU(inplace=True)\n",
      "      (10): Conv2d(64, 64, kernel_size=(3, 3), stride=(1, 1))\n",
      "      (11): BatchNorm2d(64, eps=1e-05, momentum=0.1, affine=True, track_running_stats=True)\n",
      "      (12): ReLU(inplace=True)\n",
      "      (13): MaxPool2d(kernel_size=2, stride=2, padding=0, dilation=1, ceil_mode=False)\n",
      "      (14): Flatten()\n",
      "      (15): MLP(\n",
      "        (mlp): Sequential(\n",
      "          (Linear_0): Linear(in_features=576, out_features=256, bias=True)\n",
      "          (BatchNorm_0): BatchNorm1d(256, eps=1e-05, momentum=0.1, affine=True, track_running_stats=True)\n",
      "          (ReLU_0): ReLU(inplace=True)\n",
      "          (Linear_1): Linear(in_features=256, out_features=128, bias=True)\n",
      "          (BatchNorm_1): BatchNorm1d(128, eps=1e-05, momentum=0.1, affine=True, track_running_stats=True)\n",
      "          (ReLU_1): ReLU(inplace=True)\n",
      "        )\n",
      "      )\n",
      "    )\n",
      "    (calc_mean): MLP(\n",
      "      (mlp): Sequential(\n",
      "        (Linear_0): Linear(in_features=128, out_features=64, bias=True)\n",
      "        (BatchNorm_0): BatchNorm1d(64, eps=1e-05, momentum=0.1, affine=True, track_running_stats=True)\n",
      "        (ReLU_0): ReLU(inplace=True)\n",
      "        (Linear_1): Linear(in_features=64, out_features=4, bias=True)\n",
      "      )\n",
      "    )\n",
      "    (calc_logvar): MLP(\n",
      "      (mlp): Sequential(\n",
      "        (Linear_0): Linear(in_features=128, out_features=64, bias=True)\n",
      "        (BatchNorm_0): BatchNorm1d(64, eps=1e-05, momentum=0.1, affine=True, track_running_stats=True)\n",
      "        (ReLU_0): ReLU(inplace=True)\n",
      "        (Linear_1): Linear(in_features=64, out_features=4, bias=True)\n",
      "      )\n",
      "    )\n",
      "  )\n",
      "  (decoder): Decoder(\n",
      "    (decode): Sequential(\n",
      "      (0): MLP(\n",
      "        (mlp): Sequential(\n",
      "          (Linear_0): Linear(in_features=4, out_features=64, bias=True)\n",
      "          (BatchNorm_0): BatchNorm1d(64, eps=1e-05, momentum=0.1, affine=True, track_running_stats=True)\n",
      "          (ReLU_0): ReLU(inplace=True)\n",
      "          (Linear_1): Linear(in_features=64, out_features=128, bias=True)\n",
      "          (BatchNorm_1): BatchNorm1d(128, eps=1e-05, momentum=0.1, affine=True, track_running_stats=True)\n",
      "          (ReLU_1): ReLU(inplace=True)\n",
      "          (Linear_2): Linear(in_features=128, out_features=256, bias=True)\n",
      "          (BatchNorm_2): BatchNorm1d(256, eps=1e-05, momentum=0.1, affine=True, track_running_stats=True)\n",
      "          (ReLU_2): ReLU(inplace=True)\n",
      "          (Linear_3): Linear(in_features=256, out_features=784, bias=True)\n",
      "        )\n",
      "      )\n",
      "      (1): Sigmoid()\n",
      "    )\n",
      "  )\n",
      ")\n",
      "training on  cuda\n"
     ]
    },
    {
     "data": {
      "application/vnd.jupyter.widget-view+json": {
       "model_id": "8f1cc44508734b6391910e66bac2a22a",
       "version_major": 2,
       "version_minor": 0
      },
      "text/plain": [
       "  0%|                     | 0/600 [00:00<?, ?it/s]"
      ]
     },
     "metadata": {},
     "output_type": "display_data"
    },
    {
     "name": "stdout",
     "output_type": "stream",
     "text": [
      "epoch 0, train loss 140.3183 , time 11.6 sec\n"
     ]
    },
    {
     "data": {
      "application/vnd.jupyter.widget-view+json": {
       "model_id": "76f5c13ae08a4e00ad9ef5a401988441",
       "version_major": 2,
       "version_minor": 0
      },
      "text/plain": [
       "  0%|                     | 0/600 [00:00<?, ?it/s]"
      ]
     },
     "metadata": {},
     "output_type": "display_data"
    },
    {
     "name": "stdout",
     "output_type": "stream",
     "text": [
      "epoch 1, train loss 128.0707 , time 10.9 sec\n"
     ]
    },
    {
     "data": {
      "application/vnd.jupyter.widget-view+json": {
       "model_id": "36a607c476a0429cbe48b97b9dbe4d20",
       "version_major": 2,
       "version_minor": 0
      },
      "text/plain": [
       "  0%|                     | 0/600 [00:00<?, ?it/s]"
      ]
     },
     "metadata": {},
     "output_type": "display_data"
    },
    {
     "name": "stdout",
     "output_type": "stream",
     "text": [
      "epoch 2, train loss 125.1419 , time 10.7 sec\n"
     ]
    },
    {
     "data": {
      "application/vnd.jupyter.widget-view+json": {
       "model_id": "8f00632f37d04d3ea7a310e5e47664a8",
       "version_major": 2,
       "version_minor": 0
      },
      "text/plain": [
       "  0%|                     | 0/600 [00:00<?, ?it/s]"
      ]
     },
     "metadata": {},
     "output_type": "display_data"
    },
    {
     "name": "stdout",
     "output_type": "stream",
     "text": [
      "epoch 3, train loss 123.3691 , time 11.1 sec\n"
     ]
    },
    {
     "data": {
      "application/vnd.jupyter.widget-view+json": {
       "model_id": "7db620d715cb4288b3c96e6b6b2450fc",
       "version_major": 2,
       "version_minor": 0
      },
      "text/plain": [
       "  0%|                     | 0/600 [00:00<?, ?it/s]"
      ]
     },
     "metadata": {},
     "output_type": "display_data"
    },
    {
     "name": "stdout",
     "output_type": "stream",
     "text": [
      "epoch 4, train loss 122.0766 , time 11.5 sec\n"
     ]
    },
    {
     "data": {
      "application/vnd.jupyter.widget-view+json": {
       "model_id": "47bbb07f96d1487b9204d4b4742afe73",
       "version_major": 2,
       "version_minor": 0
      },
      "text/plain": [
       "  0%|                     | 0/600 [00:00<?, ?it/s]"
      ]
     },
     "metadata": {},
     "output_type": "display_data"
    },
    {
     "name": "stdout",
     "output_type": "stream",
     "text": [
      "epoch 5, train loss 120.8391 , time 12.3 sec\n"
     ]
    },
    {
     "data": {
      "application/vnd.jupyter.widget-view+json": {
       "model_id": "e49b5227245f4602b7108d3a92d09bb0",
       "version_major": 2,
       "version_minor": 0
      },
      "text/plain": [
       "  0%|                     | 0/600 [00:00<?, ?it/s]"
      ]
     },
     "metadata": {},
     "output_type": "display_data"
    },
    {
     "name": "stdout",
     "output_type": "stream",
     "text": [
      "epoch 6, train loss 120.1327 , time 11.3 sec\n"
     ]
    },
    {
     "data": {
      "application/vnd.jupyter.widget-view+json": {
       "model_id": "b178f9a1d48c426cb524b9d52f4e5af9",
       "version_major": 2,
       "version_minor": 0
      },
      "text/plain": [
       "  0%|                     | 0/600 [00:00<?, ?it/s]"
      ]
     },
     "metadata": {},
     "output_type": "display_data"
    },
    {
     "name": "stdout",
     "output_type": "stream",
     "text": [
      "epoch 7, train loss 119.2385 , time 11.0 sec\n"
     ]
    },
    {
     "data": {
      "application/vnd.jupyter.widget-view+json": {
       "model_id": "7feeb2a67231433780027450707728ee",
       "version_major": 2,
       "version_minor": 0
      },
      "text/plain": [
       "  0%|                     | 0/600 [00:00<?, ?it/s]"
      ]
     },
     "metadata": {},
     "output_type": "display_data"
    },
    {
     "name": "stdout",
     "output_type": "stream",
     "text": [
      "epoch 8, train loss 118.5161 , time 10.6 sec\n"
     ]
    },
    {
     "data": {
      "application/vnd.jupyter.widget-view+json": {
       "model_id": "f3048996840c4a14a0ba86fe893ed818",
       "version_major": 2,
       "version_minor": 0
      },
      "text/plain": [
       "  0%|                     | 0/600 [00:00<?, ?it/s]"
      ]
     },
     "metadata": {},
     "output_type": "display_data"
    },
    {
     "name": "stdout",
     "output_type": "stream",
     "text": [
      "epoch 9, train loss 117.7113 , time 11.0 sec\n"
     ]
    },
    {
     "data": {
      "application/vnd.jupyter.widget-view+json": {
       "model_id": "a8169b2ca4b34b57938a044b97ed0de1",
       "version_major": 2,
       "version_minor": 0
      },
      "text/plain": [
       "  0%|                     | 0/600 [00:00<?, ?it/s]"
      ]
     },
     "metadata": {},
     "output_type": "display_data"
    },
    {
     "name": "stdout",
     "output_type": "stream",
     "text": [
      "epoch 10, train loss 117.4317 , time 10.7 sec\n"
     ]
    },
    {
     "data": {
      "application/vnd.jupyter.widget-view+json": {
       "model_id": "7c91927665fd4256b0aed4d09eb0b173",
       "version_major": 2,
       "version_minor": 0
      },
      "text/plain": [
       "  0%|                     | 0/600 [00:00<?, ?it/s]"
      ]
     },
     "metadata": {},
     "output_type": "display_data"
    },
    {
     "name": "stdout",
     "output_type": "stream",
     "text": [
      "epoch 11, train loss 116.8660 , time 11.5 sec\n"
     ]
    },
    {
     "data": {
      "application/vnd.jupyter.widget-view+json": {
       "model_id": "5a0620624dea47bc9f97c2ea7d50a3d6",
       "version_major": 2,
       "version_minor": 0
      },
      "text/plain": [
       "  0%|                     | 0/600 [00:00<?, ?it/s]"
      ]
     },
     "metadata": {},
     "output_type": "display_data"
    },
    {
     "name": "stdout",
     "output_type": "stream",
     "text": [
      "epoch 12, train loss 116.4605 , time 11.8 sec\n"
     ]
    },
    {
     "data": {
      "application/vnd.jupyter.widget-view+json": {
       "model_id": "f6992513a3474e68b8fb72c9503cb28f",
       "version_major": 2,
       "version_minor": 0
      },
      "text/plain": [
       "  0%|                     | 0/600 [00:00<?, ?it/s]"
      ]
     },
     "metadata": {},
     "output_type": "display_data"
    },
    {
     "name": "stdout",
     "output_type": "stream",
     "text": [
      "epoch 13, train loss 116.0145 , time 11.0 sec\n"
     ]
    },
    {
     "data": {
      "application/vnd.jupyter.widget-view+json": {
       "model_id": "a9f1e60ec7924c80a3340258e70b61b1",
       "version_major": 2,
       "version_minor": 0
      },
      "text/plain": [
       "  0%|                     | 0/600 [00:00<?, ?it/s]"
      ]
     },
     "metadata": {},
     "output_type": "display_data"
    },
    {
     "name": "stdout",
     "output_type": "stream",
     "text": [
      "epoch 14, train loss 115.3991 , time 11.2 sec\n"
     ]
    },
    {
     "data": {
      "application/vnd.jupyter.widget-view+json": {
       "model_id": "a94c034ede16411e952eb09a24b0d820",
       "version_major": 2,
       "version_minor": 0
      },
      "text/plain": [
       "  0%|                     | 0/600 [00:00<?, ?it/s]"
      ]
     },
     "metadata": {},
     "output_type": "display_data"
    },
    {
     "name": "stdout",
     "output_type": "stream",
     "text": [
      "epoch 15, train loss 115.2768 , time 10.9 sec\n"
     ]
    },
    {
     "data": {
      "application/vnd.jupyter.widget-view+json": {
       "model_id": "b7989585f88a4088a48efbce56d43038",
       "version_major": 2,
       "version_minor": 0
      },
      "text/plain": [
       "  0%|                     | 0/600 [00:00<?, ?it/s]"
      ]
     },
     "metadata": {},
     "output_type": "display_data"
    },
    {
     "name": "stdout",
     "output_type": "stream",
     "text": [
      "epoch 16, train loss 114.8443 , time 10.7 sec\n"
     ]
    },
    {
     "data": {
      "application/vnd.jupyter.widget-view+json": {
       "model_id": "e374d26874f444ec840b9bbe03ac8d2e",
       "version_major": 2,
       "version_minor": 0
      },
      "text/plain": [
       "  0%|                     | 0/600 [00:00<?, ?it/s]"
      ]
     },
     "metadata": {},
     "output_type": "display_data"
    },
    {
     "name": "stdout",
     "output_type": "stream",
     "text": [
      "epoch 17, train loss 114.6132 , time 10.9 sec\n"
     ]
    },
    {
     "data": {
      "application/vnd.jupyter.widget-view+json": {
       "model_id": "6ecd896fe332467f9daf4d1c99f214bd",
       "version_major": 2,
       "version_minor": 0
      },
      "text/plain": [
       "  0%|                     | 0/600 [00:00<?, ?it/s]"
      ]
     },
     "metadata": {},
     "output_type": "display_data"
    },
    {
     "name": "stdout",
     "output_type": "stream",
     "text": [
      "epoch 18, train loss 114.3245 , time 11.4 sec\n"
     ]
    },
    {
     "data": {
      "application/vnd.jupyter.widget-view+json": {
       "model_id": "480e15ff03874c9686b9a5276dcebb75",
       "version_major": 2,
       "version_minor": 0
      },
      "text/plain": [
       "  0%|                     | 0/600 [00:00<?, ?it/s]"
      ]
     },
     "metadata": {},
     "output_type": "display_data"
    },
    {
     "name": "stdout",
     "output_type": "stream",
     "text": [
      "epoch 19, train loss 113.9959 , time 11.2 sec\n"
     ]
    },
    {
     "data": {
      "application/vnd.jupyter.widget-view+json": {
       "model_id": "198eef18db1f4a469575278c9e8480d2",
       "version_major": 2,
       "version_minor": 0
      },
      "text/plain": [
       "  0%|                     | 0/600 [00:00<?, ?it/s]"
      ]
     },
     "metadata": {},
     "output_type": "display_data"
    },
    {
     "name": "stdout",
     "output_type": "stream",
     "text": [
      "epoch 20, train loss 113.7202 , time 11.0 sec\n"
     ]
    },
    {
     "data": {
      "application/vnd.jupyter.widget-view+json": {
       "model_id": "4cd4ef0907ac47729444161107f48ab6",
       "version_major": 2,
       "version_minor": 0
      },
      "text/plain": [
       "  0%|                     | 0/600 [00:00<?, ?it/s]"
      ]
     },
     "metadata": {},
     "output_type": "display_data"
    },
    {
     "name": "stdout",
     "output_type": "stream",
     "text": [
      "epoch 21, train loss 113.3346 , time 10.7 sec\n"
     ]
    },
    {
     "data": {
      "application/vnd.jupyter.widget-view+json": {
       "model_id": "77f4a5b022dc4deb93c0140e6b9d61f4",
       "version_major": 2,
       "version_minor": 0
      },
      "text/plain": [
       "  0%|                     | 0/600 [00:00<?, ?it/s]"
      ]
     },
     "metadata": {},
     "output_type": "display_data"
    },
    {
     "name": "stdout",
     "output_type": "stream",
     "text": [
      "epoch 22, train loss 113.3067 , time 10.8 sec\n"
     ]
    },
    {
     "data": {
      "application/vnd.jupyter.widget-view+json": {
       "model_id": "864faf3b93b5485d8f163dc35f39954a",
       "version_major": 2,
       "version_minor": 0
      },
      "text/plain": [
       "  0%|                     | 0/600 [00:00<?, ?it/s]"
      ]
     },
     "metadata": {},
     "output_type": "display_data"
    },
    {
     "name": "stdout",
     "output_type": "stream",
     "text": [
      "epoch 23, train loss 112.9569 , time 11.1 sec\n"
     ]
    },
    {
     "data": {
      "application/vnd.jupyter.widget-view+json": {
       "model_id": "ab431a7e226b4d809f22ec21d7fc8999",
       "version_major": 2,
       "version_minor": 0
      },
      "text/plain": [
       "  0%|                     | 0/600 [00:00<?, ?it/s]"
      ]
     },
     "metadata": {},
     "output_type": "display_data"
    },
    {
     "name": "stdout",
     "output_type": "stream",
     "text": [
      "epoch 24, train loss 112.8102 , time 10.3 sec\n"
     ]
    },
    {
     "data": {
      "application/vnd.jupyter.widget-view+json": {
       "model_id": "66b38fac1dc64be3b59032a414093736",
       "version_major": 2,
       "version_minor": 0
      },
      "text/plain": [
       "  0%|                     | 0/600 [00:00<?, ?it/s]"
      ]
     },
     "metadata": {},
     "output_type": "display_data"
    },
    {
     "name": "stdout",
     "output_type": "stream",
     "text": [
      "epoch 25, train loss 112.6772 , time 9.9 sec\n"
     ]
    },
    {
     "data": {
      "application/vnd.jupyter.widget-view+json": {
       "model_id": "f26f57a8a98d40aba2af291351452499",
       "version_major": 2,
       "version_minor": 0
      },
      "text/plain": [
       "  0%|                     | 0/600 [00:00<?, ?it/s]"
      ]
     },
     "metadata": {},
     "output_type": "display_data"
    },
    {
     "name": "stdout",
     "output_type": "stream",
     "text": [
      "epoch 26, train loss 112.4651 , time 9.7 sec\n"
     ]
    },
    {
     "data": {
      "application/vnd.jupyter.widget-view+json": {
       "model_id": "8c7e84ff15324fc082bf0c7a7c81af17",
       "version_major": 2,
       "version_minor": 0
      },
      "text/plain": [
       "  0%|                     | 0/600 [00:00<?, ?it/s]"
      ]
     },
     "metadata": {},
     "output_type": "display_data"
    },
    {
     "name": "stdout",
     "output_type": "stream",
     "text": [
      "epoch 27, train loss 112.3379 , time 10.2 sec\n"
     ]
    },
    {
     "data": {
      "application/vnd.jupyter.widget-view+json": {
       "model_id": "9c334b69d0b1414c931cf8153110b4c5",
       "version_major": 2,
       "version_minor": 0
      },
      "text/plain": [
       "  0%|                     | 0/600 [00:00<?, ?it/s]"
      ]
     },
     "metadata": {},
     "output_type": "display_data"
    },
    {
     "name": "stdout",
     "output_type": "stream",
     "text": [
      "epoch 28, train loss 112.1108 , time 10.7 sec\n"
     ]
    },
    {
     "data": {
      "application/vnd.jupyter.widget-view+json": {
       "model_id": "85fcdc2141324073a4f4bccaf2855add",
       "version_major": 2,
       "version_minor": 0
      },
      "text/plain": [
       "  0%|                     | 0/600 [00:00<?, ?it/s]"
      ]
     },
     "metadata": {},
     "output_type": "display_data"
    },
    {
     "name": "stdout",
     "output_type": "stream",
     "text": [
      "epoch 29, train loss 111.8277 , time 10.0 sec\n"
     ]
    },
    {
     "data": {
      "application/vnd.jupyter.widget-view+json": {
       "model_id": "3d5598eee94d43f3a147a35e4cd516b9",
       "version_major": 2,
       "version_minor": 0
      },
      "text/plain": [
       "  0%|                     | 0/600 [00:00<?, ?it/s]"
      ]
     },
     "metadata": {},
     "output_type": "display_data"
    },
    {
     "name": "stdout",
     "output_type": "stream",
     "text": [
      "epoch 30, train loss 111.7063 , time 12.3 sec\n"
     ]
    },
    {
     "data": {
      "application/vnd.jupyter.widget-view+json": {
       "model_id": "c61aa07c75654455863d50a706df88b7",
       "version_major": 2,
       "version_minor": 0
      },
      "text/plain": [
       "  0%|                     | 0/600 [00:00<?, ?it/s]"
      ]
     },
     "metadata": {},
     "output_type": "display_data"
    },
    {
     "name": "stdout",
     "output_type": "stream",
     "text": [
      "epoch 31, train loss 111.5926 , time 12.0 sec\n"
     ]
    },
    {
     "data": {
      "application/vnd.jupyter.widget-view+json": {
       "model_id": "77151d3c4c2541d9910043d38f8d78b6",
       "version_major": 2,
       "version_minor": 0
      },
      "text/plain": [
       "  0%|                     | 0/600 [00:00<?, ?it/s]"
      ]
     },
     "metadata": {},
     "output_type": "display_data"
    },
    {
     "name": "stdout",
     "output_type": "stream",
     "text": [
      "epoch 32, train loss 111.4857 , time 11.0 sec\n"
     ]
    },
    {
     "data": {
      "application/vnd.jupyter.widget-view+json": {
       "model_id": "1cb43e648be14858bfdfa48eac7a9d7b",
       "version_major": 2,
       "version_minor": 0
      },
      "text/plain": [
       "  0%|                     | 0/600 [00:00<?, ?it/s]"
      ]
     },
     "metadata": {},
     "output_type": "display_data"
    },
    {
     "name": "stdout",
     "output_type": "stream",
     "text": [
      "epoch 33, train loss 111.3461 , time 10.1 sec\n"
     ]
    },
    {
     "data": {
      "application/vnd.jupyter.widget-view+json": {
       "model_id": "6f7ce56596fa4583bff29d78c881226e",
       "version_major": 2,
       "version_minor": 0
      },
      "text/plain": [
       "  0%|                     | 0/600 [00:00<?, ?it/s]"
      ]
     },
     "metadata": {},
     "output_type": "display_data"
    },
    {
     "name": "stdout",
     "output_type": "stream",
     "text": [
      "epoch 34, train loss 111.2347 , time 10.0 sec\n"
     ]
    },
    {
     "data": {
      "application/vnd.jupyter.widget-view+json": {
       "model_id": "1dbfe6815aaf431f8352e242c6a1c03b",
       "version_major": 2,
       "version_minor": 0
      },
      "text/plain": [
       "  0%|                     | 0/600 [00:00<?, ?it/s]"
      ]
     },
     "metadata": {},
     "output_type": "display_data"
    },
    {
     "name": "stdout",
     "output_type": "stream",
     "text": [
      "epoch 35, train loss 111.0625 , time 9.7 sec\n"
     ]
    },
    {
     "data": {
      "application/vnd.jupyter.widget-view+json": {
       "model_id": "b7f0d83cad1d481cac8dc154b532c95f",
       "version_major": 2,
       "version_minor": 0
      },
      "text/plain": [
       "  0%|                     | 0/600 [00:00<?, ?it/s]"
      ]
     },
     "metadata": {},
     "output_type": "display_data"
    },
    {
     "name": "stdout",
     "output_type": "stream",
     "text": [
      "epoch 36, train loss 110.9254 , time 9.6 sec\n"
     ]
    },
    {
     "data": {
      "application/vnd.jupyter.widget-view+json": {
       "model_id": "4f7e0da131164e5c8f7cb51abf195e12",
       "version_major": 2,
       "version_minor": 0
      },
      "text/plain": [
       "  0%|                     | 0/600 [00:00<?, ?it/s]"
      ]
     },
     "metadata": {},
     "output_type": "display_data"
    },
    {
     "name": "stdout",
     "output_type": "stream",
     "text": [
      "epoch 37, train loss 110.8579 , time 9.9 sec\n"
     ]
    },
    {
     "data": {
      "application/vnd.jupyter.widget-view+json": {
       "model_id": "eb25c01635394e95be7e5fe112e27893",
       "version_major": 2,
       "version_minor": 0
      },
      "text/plain": [
       "  0%|                     | 0/600 [00:00<?, ?it/s]"
      ]
     },
     "metadata": {},
     "output_type": "display_data"
    },
    {
     "name": "stdout",
     "output_type": "stream",
     "text": [
      "epoch 38, train loss 110.7646 , time 10.1 sec\n"
     ]
    },
    {
     "data": {
      "application/vnd.jupyter.widget-view+json": {
       "model_id": "c1dc788ff0894645809d0dd7678919bc",
       "version_major": 2,
       "version_minor": 0
      },
      "text/plain": [
       "  0%|                     | 0/600 [00:00<?, ?it/s]"
      ]
     },
     "metadata": {},
     "output_type": "display_data"
    },
    {
     "name": "stdout",
     "output_type": "stream",
     "text": [
      "epoch 39, train loss 110.6010 , time 10.5 sec\n"
     ]
    },
    {
     "data": {
      "application/vnd.jupyter.widget-view+json": {
       "model_id": "98cd32a04db64b16ae6947772771f325",
       "version_major": 2,
       "version_minor": 0
      },
      "text/plain": [
       "  0%|                     | 0/600 [00:00<?, ?it/s]"
      ]
     },
     "metadata": {},
     "output_type": "display_data"
    },
    {
     "name": "stdout",
     "output_type": "stream",
     "text": [
      "epoch 40, train loss 110.5124 , time 9.8 sec\n"
     ]
    },
    {
     "data": {
      "application/vnd.jupyter.widget-view+json": {
       "model_id": "2f8b2b94b0ed4344ae3038c1897bed85",
       "version_major": 2,
       "version_minor": 0
      },
      "text/plain": [
       "  0%|                     | 0/600 [00:00<?, ?it/s]"
      ]
     },
     "metadata": {},
     "output_type": "display_data"
    },
    {
     "name": "stdout",
     "output_type": "stream",
     "text": [
      "epoch 41, train loss 110.5119 , time 9.8 sec\n"
     ]
    },
    {
     "data": {
      "application/vnd.jupyter.widget-view+json": {
       "model_id": "6ad7e1addb794c24bc268f6f1e1d8392",
       "version_major": 2,
       "version_minor": 0
      },
      "text/plain": [
       "  0%|                     | 0/600 [00:00<?, ?it/s]"
      ]
     },
     "metadata": {},
     "output_type": "display_data"
    },
    {
     "name": "stdout",
     "output_type": "stream",
     "text": [
      "epoch 42, train loss 110.3605 , time 10.3 sec\n"
     ]
    },
    {
     "data": {
      "application/vnd.jupyter.widget-view+json": {
       "model_id": "03a12bb94988460d84edf26b65c7cd50",
       "version_major": 2,
       "version_minor": 0
      },
      "text/plain": [
       "  0%|                     | 0/600 [00:00<?, ?it/s]"
      ]
     },
     "metadata": {},
     "output_type": "display_data"
    },
    {
     "name": "stdout",
     "output_type": "stream",
     "text": [
      "epoch 43, train loss 110.2917 , time 9.9 sec\n"
     ]
    },
    {
     "data": {
      "application/vnd.jupyter.widget-view+json": {
       "model_id": "6cdf9d3274d1443eaa402b419db8e966",
       "version_major": 2,
       "version_minor": 0
      },
      "text/plain": [
       "  0%|                     | 0/600 [00:00<?, ?it/s]"
      ]
     },
     "metadata": {},
     "output_type": "display_data"
    },
    {
     "name": "stdout",
     "output_type": "stream",
     "text": [
      "epoch 44, train loss 110.1964 , time 10.2 sec\n"
     ]
    },
    {
     "data": {
      "application/vnd.jupyter.widget-view+json": {
       "model_id": "a1d7882dd51e4edfbe51cbe3b77aa7c2",
       "version_major": 2,
       "version_minor": 0
      },
      "text/plain": [
       "  0%|                     | 0/600 [00:00<?, ?it/s]"
      ]
     },
     "metadata": {},
     "output_type": "display_data"
    },
    {
     "name": "stdout",
     "output_type": "stream",
     "text": [
      "epoch 45, train loss 110.1276 , time 10.2 sec\n"
     ]
    },
    {
     "data": {
      "application/vnd.jupyter.widget-view+json": {
       "model_id": "f229ce7704804fc5a34a39028c71beba",
       "version_major": 2,
       "version_minor": 0
      },
      "text/plain": [
       "  0%|                     | 0/600 [00:00<?, ?it/s]"
      ]
     },
     "metadata": {},
     "output_type": "display_data"
    },
    {
     "name": "stdout",
     "output_type": "stream",
     "text": [
      "epoch 46, train loss 110.0340 , time 11.3 sec\n"
     ]
    },
    {
     "data": {
      "application/vnd.jupyter.widget-view+json": {
       "model_id": "2ced2c50ec7c41cebe64433a44d72d9f",
       "version_major": 2,
       "version_minor": 0
      },
      "text/plain": [
       "  0%|                     | 0/600 [00:00<?, ?it/s]"
      ]
     },
     "metadata": {},
     "output_type": "display_data"
    },
    {
     "name": "stdout",
     "output_type": "stream",
     "text": [
      "epoch 47, train loss 109.9692 , time 11.8 sec\n"
     ]
    },
    {
     "data": {
      "application/vnd.jupyter.widget-view+json": {
       "model_id": "3ac97e36d87341ce908cdaee9d232250",
       "version_major": 2,
       "version_minor": 0
      },
      "text/plain": [
       "  0%|                     | 0/600 [00:00<?, ?it/s]"
      ]
     },
     "metadata": {},
     "output_type": "display_data"
    },
    {
     "name": "stdout",
     "output_type": "stream",
     "text": [
      "epoch 48, train loss 109.8781 , time 10.8 sec\n"
     ]
    },
    {
     "data": {
      "application/vnd.jupyter.widget-view+json": {
       "model_id": "1bd5f5d737024fbdaaf9275e34507cd5",
       "version_major": 2,
       "version_minor": 0
      },
      "text/plain": [
       "  0%|                     | 0/600 [00:00<?, ?it/s]"
      ]
     },
     "metadata": {},
     "output_type": "display_data"
    },
    {
     "name": "stdout",
     "output_type": "stream",
     "text": [
      "epoch 49, train loss 109.8263 , time 9.8 sec\n"
     ]
    },
    {
     "data": {
      "application/vnd.jupyter.widget-view+json": {
       "model_id": "faf8ba1a9cff419c9cdc7184b51d6859",
       "version_major": 2,
       "version_minor": 0
      },
      "text/plain": [
       "  0%|                     | 0/600 [00:00<?, ?it/s]"
      ]
     },
     "metadata": {},
     "output_type": "display_data"
    },
    {
     "name": "stdout",
     "output_type": "stream",
     "text": [
      "epoch 50, train loss 109.8307 , time 9.9 sec\n"
     ]
    },
    {
     "data": {
      "application/vnd.jupyter.widget-view+json": {
       "model_id": "e428f1af361e472b93eb15f2d28d8b47",
       "version_major": 2,
       "version_minor": 0
      },
      "text/plain": [
       "  0%|                     | 0/600 [00:00<?, ?it/s]"
      ]
     },
     "metadata": {},
     "output_type": "display_data"
    },
    {
     "name": "stdout",
     "output_type": "stream",
     "text": [
      "epoch 51, train loss 109.7306 , time 9.9 sec\n"
     ]
    },
    {
     "data": {
      "application/vnd.jupyter.widget-view+json": {
       "model_id": "a2ee0258dcce49e4854a8777e3b04153",
       "version_major": 2,
       "version_minor": 0
      },
      "text/plain": [
       "  0%|                     | 0/600 [00:00<?, ?it/s]"
      ]
     },
     "metadata": {},
     "output_type": "display_data"
    },
    {
     "name": "stdout",
     "output_type": "stream",
     "text": [
      "epoch 52, train loss 109.6174 , time 9.9 sec\n"
     ]
    },
    {
     "data": {
      "application/vnd.jupyter.widget-view+json": {
       "model_id": "ac94c82db75d40d6b96f2b13df55931b",
       "version_major": 2,
       "version_minor": 0
      },
      "text/plain": [
       "  0%|                     | 0/600 [00:00<?, ?it/s]"
      ]
     },
     "metadata": {},
     "output_type": "display_data"
    },
    {
     "name": "stdout",
     "output_type": "stream",
     "text": [
      "epoch 53, train loss 109.6784 , time 9.8 sec\n"
     ]
    },
    {
     "data": {
      "application/vnd.jupyter.widget-view+json": {
       "model_id": "02e4d702fa744f59955e0157a248f819",
       "version_major": 2,
       "version_minor": 0
      },
      "text/plain": [
       "  0%|                     | 0/600 [00:00<?, ?it/s]"
      ]
     },
     "metadata": {},
     "output_type": "display_data"
    },
    {
     "name": "stdout",
     "output_type": "stream",
     "text": [
      "epoch 54, train loss 109.5702 , time 10.2 sec\n"
     ]
    },
    {
     "data": {
      "application/vnd.jupyter.widget-view+json": {
       "model_id": "8b57b5543fbf4829a6bd87ebb899a7f5",
       "version_major": 2,
       "version_minor": 0
      },
      "text/plain": [
       "  0%|                     | 0/600 [00:00<?, ?it/s]"
      ]
     },
     "metadata": {},
     "output_type": "display_data"
    },
    {
     "name": "stdout",
     "output_type": "stream",
     "text": [
      "epoch 55, train loss 109.5486 , time 9.9 sec\n"
     ]
    },
    {
     "data": {
      "application/vnd.jupyter.widget-view+json": {
       "model_id": "001da2828a874354b49b8c4d8f9d023b",
       "version_major": 2,
       "version_minor": 0
      },
      "text/plain": [
       "  0%|                     | 0/600 [00:00<?, ?it/s]"
      ]
     },
     "metadata": {},
     "output_type": "display_data"
    },
    {
     "name": "stdout",
     "output_type": "stream",
     "text": [
      "epoch 56, train loss 109.4788 , time 10.2 sec\n"
     ]
    },
    {
     "data": {
      "application/vnd.jupyter.widget-view+json": {
       "model_id": "35faafeaeadb47f7bf0b91b87fe0a648",
       "version_major": 2,
       "version_minor": 0
      },
      "text/plain": [
       "  0%|                     | 0/600 [00:00<?, ?it/s]"
      ]
     },
     "metadata": {},
     "output_type": "display_data"
    },
    {
     "name": "stdout",
     "output_type": "stream",
     "text": [
      "epoch 57, train loss 109.4131 , time 10.3 sec\n"
     ]
    },
    {
     "data": {
      "application/vnd.jupyter.widget-view+json": {
       "model_id": "3dc60deec820441596510f937b6a83e1",
       "version_major": 2,
       "version_minor": 0
      },
      "text/plain": [
       "  0%|                     | 0/600 [00:00<?, ?it/s]"
      ]
     },
     "metadata": {},
     "output_type": "display_data"
    },
    {
     "name": "stdout",
     "output_type": "stream",
     "text": [
      "epoch 58, train loss 109.4670 , time 9.8 sec\n"
     ]
    },
    {
     "data": {
      "application/vnd.jupyter.widget-view+json": {
       "model_id": "227cc11d96ee4290a14a937ea2456cda",
       "version_major": 2,
       "version_minor": 0
      },
      "text/plain": [
       "  0%|                     | 0/600 [00:00<?, ?it/s]"
      ]
     },
     "metadata": {},
     "output_type": "display_data"
    },
    {
     "name": "stdout",
     "output_type": "stream",
     "text": [
      "epoch 59, train loss 109.4109 , time 10.9 sec\n"
     ]
    },
    {
     "data": {
      "application/vnd.jupyter.widget-view+json": {
       "model_id": "26aefd12ae8f4ab88cbfc42c88fc05d4",
       "version_major": 2,
       "version_minor": 0
      },
      "text/plain": [
       "  0%|                     | 0/600 [00:00<?, ?it/s]"
      ]
     },
     "metadata": {},
     "output_type": "display_data"
    }
   ],
   "source": [
    "from VAE import VAE, loss\n",
    "net = VAE((1, 28, 28), nhid = 4)\n",
    "net.to(device)\n",
    "save_name = \"VAE.pt\"\n",
    "\n",
    "lr = 0.01\n",
    "optimizer = torch.optim.Adam(filter(lambda p: p.requires_grad, net.parameters()), lr=lr, weight_decay = 0.0001)\n",
    "\n",
    "def adjust_lr(optimizer, decay_rate=0.95):\n",
    "    for param_group in optimizer.param_groups:\n",
    "        param_group['lr'] *= decay_rate\n",
    "\n",
    "\n",
    "if os.path.exists(save_name):\n",
    "    print(\"Model parameters have already been trained before. Retrain ? (y/n)\")\n",
    "    ans = input()\n",
    "    if not (ans == 'y'):\n",
    "        checkpoint = torch.load(save_name, map_location = device)\n",
    "        net.load_state_dict(checkpoint[\"net\"])\n",
    "        optimizer.load_state_dict(checkpoint[\"optimizer\"])\n",
    "        for g in optimizer.param_groups:\n",
    "            g['lr'] = lr\n",
    "\n",
    "max_epochs = 1000\n",
    "net = net.to(device)\n",
    "\n",
    "print(\"training on \", device)\n",
    "\n",
    "\n",
    "for epoch in range(max_epochs):\n",
    "\n",
    "    train_loss, n, start = 0.0, 0, time.time()\n",
    "    for X, _ in tqdm(train_loader, ncols = 50):\n",
    "        X = X.to(device)\n",
    "        X_hat, mean, logvar = net(X)\n",
    "\n",
    "        l = loss(X, X_hat, mean, logvar).to(device)\n",
    "        optimizer.zero_grad()\n",
    "        l.backward()\n",
    "        optimizer.step()\n",
    "\n",
    "        train_loss += l.cpu().item()\n",
    "        n += X.shape[0]\n",
    "\n",
    "    train_loss /= n\n",
    "    print('epoch %d, train loss %.4f , time %.1f sec'\n",
    "          % (epoch, train_loss, time.time() - start))\n",
    "    \n",
    "    adjust_lr(optimizer)\n",
    "\n",
    "checkpoint = torch.load(early_stop.save_name)\n",
    "net.load_state_dict(checkpoint[\"net\"])\n",
    "\n",
    "\n"
   ]
  },
  {
   "cell_type": "code",
   "execution_count": null,
   "metadata": {},
   "outputs": [],
   "source": []
  }
 ],
 "metadata": {
  "kernelspec": {
   "display_name": "pytorch",
   "language": "python",
   "name": "python3"
  },
  "language_info": {
   "codemirror_mode": {
    "name": "ipython",
    "version": 3
   },
   "file_extension": ".py",
   "mimetype": "text/x-python",
   "name": "python",
   "nbconvert_exporter": "python",
   "pygments_lexer": "ipython3",
   "version": "3.9.13"
  },
  "orig_nbformat": 4,
  "vscode": {
   "interpreter": {
    "hash": "79938c2f5c21d2323d35c0a981ad2f62680a8580354cf190d7e2bff72c612276"
   }
  }
 },
 "nbformat": 4,
 "nbformat_minor": 2
}
