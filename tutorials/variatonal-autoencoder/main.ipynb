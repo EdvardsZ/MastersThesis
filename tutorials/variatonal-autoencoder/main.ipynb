{
 "cells": [
  {
   "cell_type": "code",
   "execution_count": 3,
   "metadata": {},
   "outputs": [],
   "source": [
    "import torch\n",
    "from torchvision import datasets\n",
    "from torchvision import transforms\n",
    "import matplotlib.pyplot as plt\n",
    "\n",
    "BATCH_SIZE = 100\n",
    "\n",
    "device = torch.device('cuda' if torch.cuda.is_available() else 'cpu')\n",
    "\n",
    "train_set = datasets.MNIST(root='data', train=True, download=True, transform=transforms.ToTensor())\n",
    "test_val_set = datasets.MNIST(root='data', train=False, download=True, transform=transforms.ToTensor())\n",
    "# split test and validation set\n",
    "test_size = 0.5\n",
    "test_set_size = int(len(test_val_set) * test_size)\n",
    "val_set_size = len(test_val_set) - test_set_size\n",
    "test_set, val_set = torch.utils.data.random_split(test_val_set, [test_set_size, val_set_size])\n",
    "\n",
    "train_loader = torch.utils.data.DataLoader(dataset=train_set, batch_size=BATCH_SIZE, shuffle=True)\n",
    "val_loader = torch.utils.data.DataLoader(dataset=val_set, batch_size=BATCH_SIZE, shuffle=False)\n",
    "test_loader = torch.utils.data.DataLoader(dataset=test_set, batch_size=BATCH_SIZE, shuffle=False)\n"
   ]
  },
  {
   "cell_type": "code",
   "execution_count": 4,
   "metadata": {},
   "outputs": [
    {
     "name": "stdout",
     "output_type": "stream",
     "text": [
      "VAE(\n",
      "  (encoder): Encoder(\n",
      "    (encode): Sequential(\n",
      "      (0): Conv2d(1, 16, kernel_size=(5, 5), stride=(1, 1))\n",
      "      (1): BatchNorm2d(16, eps=1e-05, momentum=0.1, affine=True, track_running_stats=True)\n",
      "      (2): ReLU(inplace=True)\n",
      "      (3): Conv2d(16, 32, kernel_size=(5, 5), stride=(1, 1))\n",
      "      (4): BatchNorm2d(32, eps=1e-05, momentum=0.1, affine=True, track_running_stats=True)\n",
      "      (5): ReLU(inplace=True)\n",
      "      (6): MaxPool2d(kernel_size=2, stride=2, padding=0, dilation=1, ceil_mode=False)\n",
      "      (7): Conv2d(32, 64, kernel_size=(3, 3), stride=(1, 1))\n",
      "      (8): BatchNorm2d(64, eps=1e-05, momentum=0.1, affine=True, track_running_stats=True)\n",
      "      (9): ReLU(inplace=True)\n",
      "      (10): Conv2d(64, 64, kernel_size=(3, 3), stride=(1, 1))\n",
      "      (11): BatchNorm2d(64, eps=1e-05, momentum=0.1, affine=True, track_running_stats=True)\n",
      "      (12): ReLU(inplace=True)\n",
      "      (13): MaxPool2d(kernel_size=2, stride=2, padding=0, dilation=1, ceil_mode=False)\n",
      "      (14): Flatten()\n",
      "      (15): MLP(\n",
      "        (mlp): Sequential(\n",
      "          (Linear_0): Linear(in_features=576, out_features=256, bias=True)\n",
      "          (BatchNorm_0): BatchNorm1d(256, eps=1e-05, momentum=0.1, affine=True, track_running_stats=True)\n",
      "          (ReLU_0): ReLU(inplace=True)\n",
      "          (Linear_1): Linear(in_features=256, out_features=128, bias=True)\n",
      "          (BatchNorm_1): BatchNorm1d(128, eps=1e-05, momentum=0.1, affine=True, track_running_stats=True)\n",
      "          (ReLU_1): ReLU(inplace=True)\n",
      "        )\n",
      "      )\n",
      "    )\n",
      "    (calc_mean): MLP(\n",
      "      (mlp): Sequential(\n",
      "        (Linear_0): Linear(in_features=128, out_features=64, bias=True)\n",
      "        (BatchNorm_0): BatchNorm1d(64, eps=1e-05, momentum=0.1, affine=True, track_running_stats=True)\n",
      "        (ReLU_0): ReLU(inplace=True)\n",
      "        (Linear_1): Linear(in_features=64, out_features=4, bias=True)\n",
      "      )\n",
      "    )\n",
      "    (calc_logvar): MLP(\n",
      "      (mlp): Sequential(\n",
      "        (Linear_0): Linear(in_features=128, out_features=64, bias=True)\n",
      "        (BatchNorm_0): BatchNorm1d(64, eps=1e-05, momentum=0.1, affine=True, track_running_stats=True)\n",
      "        (ReLU_0): ReLU(inplace=True)\n",
      "        (Linear_1): Linear(in_features=64, out_features=4, bias=True)\n",
      "      )\n",
      "    )\n",
      "  )\n",
      "  (decoder): Decoder(\n",
      "    (decode): Sequential(\n",
      "      (0): MLP(\n",
      "        (mlp): Sequential(\n",
      "          (Linear_0): Linear(in_features=4, out_features=64, bias=True)\n",
      "          (BatchNorm_0): BatchNorm1d(64, eps=1e-05, momentum=0.1, affine=True, track_running_stats=True)\n",
      "          (ReLU_0): ReLU(inplace=True)\n",
      "          (Linear_1): Linear(in_features=64, out_features=128, bias=True)\n",
      "          (BatchNorm_1): BatchNorm1d(128, eps=1e-05, momentum=0.1, affine=True, track_running_stats=True)\n",
      "          (ReLU_1): ReLU(inplace=True)\n",
      "          (Linear_2): Linear(in_features=128, out_features=256, bias=True)\n",
      "          (BatchNorm_2): BatchNorm1d(256, eps=1e-05, momentum=0.1, affine=True, track_running_stats=True)\n",
      "          (ReLU_2): ReLU(inplace=True)\n",
      "          (Linear_3): Linear(in_features=256, out_features=784, bias=True)\n",
      "        )\n",
      "      )\n",
      "      (1): Sigmoid()\n",
      "    )\n",
      "  )\n",
      ")\n"
     ]
    }
   ],
   "source": [
    "from VAE import VAE\n",
    "net = VAE((1, 28, 28), nhid = 4)\n",
    "net.to(device)\n",
    "print(net)\n",
    "save_name = \"VAE.pt\""
   ]
  },
  {
   "cell_type": "code",
   "execution_count": null,
   "metadata": {},
   "outputs": [],
   "source": []
  }
 ],
 "metadata": {
  "kernelspec": {
   "display_name": "pytorch",
   "language": "python",
   "name": "python3"
  },
  "language_info": {
   "codemirror_mode": {
    "name": "ipython",
    "version": 3
   },
   "file_extension": ".py",
   "mimetype": "text/x-python",
   "name": "python",
   "nbconvert_exporter": "python",
   "pygments_lexer": "ipython3",
   "version": "3.9.13"
  },
  "orig_nbformat": 4,
  "vscode": {
   "interpreter": {
    "hash": "79938c2f5c21d2323d35c0a981ad2f62680a8580354cf190d7e2bff72c612276"
   }
  }
 },
 "nbformat": 4,
 "nbformat_minor": 2
}
