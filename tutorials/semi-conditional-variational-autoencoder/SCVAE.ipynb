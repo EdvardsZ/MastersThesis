{
 "cells": [
  {
   "cell_type": "code",
   "execution_count": 3,
   "metadata": {},
   "outputs": [
    {
     "name": "stdout",
     "output_type": "stream",
     "text": [
      "test\n"
     ]
    }
   ],
   "source": [
    "import torch\n",
    "from mnist import load_mnist\n",
    "import numpy as np\n",
    "\n",
    "BATCH_SIZE = 128\n",
    "train_loader, test_loader, val_loader = load_mnist(BATCH_SIZE)\n",
    "\n",
    "print(\"test\")"
   ]
  },
  {
   "cell_type": "code",
   "execution_count": 5,
   "metadata": {},
   "outputs": [
    {
     "name": "stdout",
     "output_type": "stream",
     "text": [
      "[2, 2, 2, 2, 8, 8, 8, 8, 14, 14, 14, 14, 20, 20, 20, 20]\n",
      "[2, 8, 14, 20, 2, 8, 14, 20, 2, 8, 14, 20, 2, 8, 14, 20]\n"
     ]
    }
   ],
   "source": [
    "def Conditioning(data, obs_x, obs_y, fill_value=0.000001):\n",
    "    Cond = np.zeros((data.shape))\n",
    "    Cond[:,obs_x,obs_y]=np.copy(data[:,obs_x, obs_y])\n",
    "    return Cond\n",
    "\n",
    "\n",
    "start=2\n",
    "stop=26\n",
    "obs_x_n=6\n",
    "obs_y_n=6\n",
    "\n",
    "obs_x=[]\n",
    "obs_y=[]\n",
    "for i in range(start,stop,obs_x_n):\n",
    "    for j in range(start,stop,obs_y_n):\n",
    "        obs_x.append(i)\n",
    "        obs_y.append(j)\n",
    "print(obs_x)\n",
    "print(obs_y)"
   ]
  },
  {
   "cell_type": "code",
   "execution_count": null,
   "metadata": {},
   "outputs": [],
   "source": []
  }
 ],
 "metadata": {
  "kernelspec": {
   "display_name": "pytorch",
   "language": "python",
   "name": "python3"
  },
  "language_info": {
   "codemirror_mode": {
    "name": "ipython",
    "version": 3
   },
   "file_extension": ".py",
   "mimetype": "text/x-python",
   "name": "python",
   "nbconvert_exporter": "python",
   "pygments_lexer": "ipython3",
   "version": "3.9.13"
  },
  "orig_nbformat": 4,
  "vscode": {
   "interpreter": {
    "hash": "79938c2f5c21d2323d35c0a981ad2f62680a8580354cf190d7e2bff72c612276"
   }
  }
 },
 "nbformat": 4,
 "nbformat_minor": 2
}
