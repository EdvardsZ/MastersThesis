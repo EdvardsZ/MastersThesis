{
 "cells": [
  {
   "cell_type": "code",
   "execution_count": 1,
   "metadata": {},
   "outputs": [
    {
     "name": "stdout",
     "output_type": "stream",
     "text": [
      "Before reshaping torch.Size([32, 64, 28, 28])\n",
      "Before quantize torch.Size([32, 28, 28, 64])\n",
      "After quantize torch.Size([32, 28, 28, 64])\n",
      "Output shape torch.Size([32, 3, 224, 224])\n"
     ]
    }
   ],
   "source": [
    "import torch\n",
    "from VQVAE import VQVAE\n",
    "\n",
    "model = VQVAE()\n",
    "\n",
    "input = torch.randn((32, 3 , 224, 224))\n",
    "\n",
    "output = model(input)\n",
    "\n",
    "print(\"Output shape\", output[0].shape)\n",
    "\n"
   ]
  },
  {
   "cell_type": "code",
   "execution_count": null,
   "metadata": {},
   "outputs": [],
   "source": []
  }
 ],
 "metadata": {
  "kernelspec": {
   "display_name": "pytorch_masters",
   "language": "python",
   "name": "python3"
  },
  "language_info": {
   "codemirror_mode": {
    "name": "ipython",
    "version": 3
   },
   "file_extension": ".py",
   "mimetype": "text/x-python",
   "name": "python",
   "nbconvert_exporter": "python",
   "pygments_lexer": "ipython3",
   "version": "3.10.11"
  },
  "orig_nbformat": 4
 },
 "nbformat": 4,
 "nbformat_minor": 2
}
