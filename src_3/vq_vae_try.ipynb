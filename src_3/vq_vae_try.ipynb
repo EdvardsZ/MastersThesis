{
 "cells": [
  {
   "cell_type": "code",
   "execution_count": 6,
   "metadata": {},
   "outputs": [],
   "source": [
    "import torch\n",
    "import torch.nn as nn\n",
    "import torch.nn.functional as F\n",
    "from torch.utils.data import DataLoader\n",
    "from torchvision.datasets import MNIST\n",
    "from torchvision.transforms import ToTensor\n",
    "\n",
    "# load mnist\n",
    "train_ds = MNIST('data', train=True, download=True, transform=ToTensor())\n",
    "test_ds = MNIST('data', train=False, download=True , transform=ToTensor())\n",
    "\n",
    "# create data loaders\n",
    "train_loader = DataLoader(train_ds, batch_size=32, shuffle=True, num_workers=12)\n",
    "val_loader = DataLoader(test_ds, batch_size=32, shuffle=False, num_workers=12)\n",
    "\n",
    "sample = next(iter(train_loader))"
   ]
  },
  {
   "cell_type": "code",
   "execution_count": 29,
   "metadata": {},
   "outputs": [],
   "source": [
    "class Encoder(nn.Module):\n",
    "    def __init__(self, latent_dim=16):\n",
    "        super(Encoder, self).__init__()\n",
    "        self.encoder = nn.Sequential(\n",
    "            nn.Conv2d(1, 32, 3, stride=2, padding=1),\n",
    "            nn.ReLU(),\n",
    "            nn.Conv2d(32, 64, 3, stride=2, padding=1),\n",
    "            nn.ReLU(),\n",
    "            nn.Conv2d(64, latent_dim, 1, padding=0)\n",
    "        )\n",
    "\n",
    "    def forward(self, x):\n",
    "        return self.encoder(x)\n"
   ]
  },
  {
   "cell_type": "code",
   "execution_count": 74,
   "metadata": {},
   "outputs": [
    {
     "name": "stdout",
     "output_type": "stream",
     "text": [
      "torch.Size([32, 16, 7, 7])\n"
     ]
    }
   ],
   "source": [
    "rand = torch.randn(32, 1, 28, 28)\n",
    "\n",
    "encoder = Encoder()\n",
    "\n",
    "print(encoder(rand).shape)"
   ]
  },
  {
   "cell_type": "code",
   "execution_count": 46,
   "metadata": {},
   "outputs": [],
   "source": [
    "class Decoder(nn.Module):\n",
    "    def __init__(self, latent_dim=16):\n",
    "        super(Decoder, self).__init__()\n",
    "        self.decoder = nn.Sequential(\n",
    "            nn.ConvTranspose2d(latent_dim, 64, 3, stride=2, padding=1, output_padding=1),\n",
    "            nn.ReLU(),\n",
    "            nn.ConvTranspose2d(64, 32, 3, stride=2, padding=1, output_padding=1),\n",
    "            nn.ReLU(),\n",
    "            nn.ConvTranspose2d(32, 1, 3, padding=1)\n",
    "        )\n",
    "\n",
    "    def forward(self, x):\n",
    "        return self.decoder(x)"
   ]
  },
  {
   "cell_type": "code",
   "execution_count": 66,
   "metadata": {},
   "outputs": [],
   "source": [
    "class VectorQuantizer(nn.Module):\n",
    "    def __init__(self, num_embeddings, embedding_dim, beta=0.25):\n",
    "        super(VectorQuantizer, self).__init__()\n",
    "        self.embedding_dim = embedding_dim\n",
    "        self.num_embeddings = num_embeddings\n",
    "        self.beta = beta\n",
    "\n",
    "        w_init = torch.nn.init.uniform_\n",
    "        self.embeddings = nn.Parameter(w_init(torch.empty(self.embedding_dim, self.num_embeddings)))\n",
    "        \n",
    "    def forward(self, x):\n",
    "        input_shape = x.shape\n",
    "        flattened = x.view(-1, self.embedding_dim)\n",
    "\n",
    "        encoding_indices = self.get_code_indices(flattened)\n",
    "        encodings = F.one_hot(encoding_indices, num_classes=self.num_embeddings).to(flattened.device)\n",
    "        quantized = torch.matmul(encodings.float(), self.embeddings.t())\n",
    "\n",
    "        quantized = quantized.view(input_shape)\n",
    "\n",
    "        commitment_loss = torch.mean((quantized.detach() - x) ** 2)\n",
    "        codebook_loss = torch.mean((quantized - x.detach()) ** 2)\n",
    "        self.loss = self.beta * commitment_loss + codebook_loss\n",
    "\n",
    "        quantized = x + (quantized - x).detach()\n",
    "        return quantized, self.loss, encoding_indices\n",
    "\n",
    "    def get_code_indices(self, flattened_inputs):\n",
    "        similarity = torch.matmul(flattened_inputs, self.embeddings)\n",
    "        distances = (torch.sum(flattened_inputs ** 2, dim=1, keepdim=True)\n",
    "                     + torch.sum(self.embeddings ** 2, dim=0)\n",
    "                     - 2 * similarity)\n",
    "\n",
    "        encoding_indices = torch.argmin(distances, dim=1)\n",
    "        return encoding_indices"
   ]
  },
  {
   "cell_type": "code",
   "execution_count": 68,
   "metadata": {},
   "outputs": [],
   "source": [
    "class VQVAE(nn.Module):\n",
    "    def __init__(self, num_embeddings, embedding_dim, beta=0.25):\n",
    "        super(VQVAE, self).__init__()\n",
    "        self.encoder = Encoder()\n",
    "        self.vq = VectorQuantizer(num_embeddings, embedding_dim, beta)\n",
    "        self.decoder = Decoder()\n",
    "\n",
    "    def forward(self, x):\n",
    "        z = self.encoder(x)\n",
    "        z_q, loss, codes = self.vq(z)\n",
    "        x_hat = self.decoder(z_q)\n",
    "\n",
    "        loss = loss + F.mse_loss(x_hat, x)\n",
    "        \n",
    "        return x_hat, loss, codes\n",
    "\n",
    "model = VQVAE(128, 16)\n",
    "\n",
    "optimizer = torch.optim.Adam(model.parameters(), lr=1e-3)\n",
    "\n",
    "def train(model, train_loader, optimizer, num_epochs=5):\n",
    "    for epoch in range(num_epochs):\n",
    "        for i, (x, _) in enumerate(train_loader):\n",
    "            optimizer.zero_grad()\n",
    "            x_hat, loss, codes = model(x)\n",
    "            loss.backward()\n",
    "            optimizer.step()\n",
    "            if i % 100 == 0:\n",
    "                print(f'Epoch {epoch}, iter {i}, loss {loss.item():.4f}')\n"
   ]
  },
  {
   "cell_type": "code",
   "execution_count": 69,
   "metadata": {},
   "outputs": [
    {
     "name": "stdout",
     "output_type": "stream",
     "text": [
      "Epoch 0, iter 0, loss 0.5199\n",
      "Epoch 0, iter 100, loss 0.2173\n",
      "Epoch 0, iter 200, loss 0.1400\n",
      "Epoch 0, iter 300, loss 0.1368\n",
      "Epoch 0, iter 400, loss 0.1137\n",
      "Epoch 0, iter 500, loss 0.1015\n",
      "Epoch 0, iter 600, loss 0.1027\n",
      "Epoch 0, iter 700, loss 0.1027\n",
      "Epoch 0, iter 800, loss 0.0946\n",
      "Epoch 0, iter 900, loss 0.0932\n",
      "Epoch 0, iter 1000, loss 0.1031\n",
      "Epoch 0, iter 1100, loss 0.0851\n",
      "Epoch 0, iter 1200, loss 0.0795\n",
      "Epoch 0, iter 1300, loss 0.0948\n",
      "Epoch 0, iter 1400, loss 0.0779\n",
      "Epoch 0, iter 1500, loss 0.0825\n",
      "Epoch 0, iter 1600, loss 0.0743\n",
      "Epoch 0, iter 1700, loss 0.0777\n",
      "Epoch 0, iter 1800, loss 0.0696\n",
      "Epoch 1, iter 0, loss 0.0698\n",
      "Epoch 1, iter 100, loss 0.0633\n",
      "Epoch 1, iter 200, loss 0.0609\n",
      "Epoch 1, iter 300, loss 0.0694\n",
      "Epoch 1, iter 400, loss 0.0697\n",
      "Epoch 1, iter 500, loss 0.0629\n",
      "Epoch 1, iter 600, loss 0.0604\n",
      "Epoch 1, iter 700, loss 0.0713\n",
      "Epoch 1, iter 800, loss 0.0710\n",
      "Epoch 1, iter 900, loss 0.0630\n",
      "Epoch 1, iter 1000, loss 0.0610\n",
      "Epoch 1, iter 1100, loss 0.0591\n",
      "Epoch 1, iter 1200, loss 0.0618\n",
      "Epoch 1, iter 1300, loss 0.0610\n",
      "Epoch 1, iter 1400, loss 0.0612\n",
      "Epoch 1, iter 1500, loss 0.0603\n",
      "Epoch 1, iter 1600, loss 0.0622\n",
      "Epoch 1, iter 1700, loss 0.0668\n",
      "Epoch 1, iter 1800, loss 0.0597\n",
      "Epoch 2, iter 0, loss 0.0564\n",
      "Epoch 2, iter 100, loss 0.0639\n",
      "Epoch 2, iter 200, loss 0.0643\n",
      "Epoch 2, iter 300, loss 0.0548\n",
      "Epoch 2, iter 400, loss 0.0579\n",
      "Epoch 2, iter 500, loss 0.0684\n",
      "Epoch 2, iter 600, loss 0.0566\n",
      "Epoch 2, iter 700, loss 0.0528\n",
      "Epoch 2, iter 800, loss 0.0539\n",
      "Epoch 2, iter 900, loss 0.0611\n",
      "Epoch 2, iter 1000, loss 0.0527\n",
      "Epoch 2, iter 1100, loss 0.0525\n",
      "Epoch 2, iter 1200, loss 0.0604\n",
      "Epoch 2, iter 1300, loss 0.0608\n",
      "Epoch 2, iter 1400, loss 0.0554\n",
      "Epoch 2, iter 1500, loss 0.0542\n",
      "Epoch 2, iter 1600, loss 0.0494\n",
      "Epoch 2, iter 1700, loss 0.0604\n",
      "Epoch 2, iter 1800, loss 0.0644\n",
      "Epoch 3, iter 0, loss 0.0518\n",
      "Epoch 3, iter 100, loss 0.0592\n",
      "Epoch 3, iter 200, loss 0.0568\n",
      "Epoch 3, iter 300, loss 0.0477\n",
      "Epoch 3, iter 400, loss 0.0514\n",
      "Epoch 3, iter 500, loss 0.0482\n",
      "Epoch 3, iter 600, loss 0.0539\n",
      "Epoch 3, iter 700, loss 0.0552\n",
      "Epoch 3, iter 800, loss 0.0532\n",
      "Epoch 3, iter 900, loss 0.0534\n",
      "Epoch 3, iter 1000, loss 0.0557\n",
      "Epoch 3, iter 1100, loss 0.0591\n",
      "Epoch 3, iter 1200, loss 0.0549\n",
      "Epoch 3, iter 1300, loss 0.0536\n",
      "Epoch 3, iter 1400, loss 0.0493\n",
      "Epoch 3, iter 1500, loss 0.0494\n",
      "Epoch 3, iter 1600, loss 0.0520\n",
      "Epoch 3, iter 1700, loss 0.0531\n",
      "Epoch 3, iter 1800, loss 0.0584\n",
      "Epoch 4, iter 0, loss 0.0595\n",
      "Epoch 4, iter 100, loss 0.0567\n",
      "Epoch 4, iter 200, loss 0.0556\n",
      "Epoch 4, iter 300, loss 0.0545\n",
      "Epoch 4, iter 400, loss 0.0525\n",
      "Epoch 4, iter 500, loss 0.0424\n",
      "Epoch 4, iter 600, loss 0.0544\n",
      "Epoch 4, iter 700, loss 0.0544\n",
      "Epoch 4, iter 800, loss 0.0542\n",
      "Epoch 4, iter 900, loss 0.0565\n",
      "Epoch 4, iter 1000, loss 0.0558\n",
      "Epoch 4, iter 1100, loss 0.0543\n",
      "Epoch 4, iter 1200, loss 0.0548\n",
      "Epoch 4, iter 1300, loss 0.0504\n",
      "Epoch 4, iter 1400, loss 0.0557\n",
      "Epoch 4, iter 1500, loss 0.0554\n",
      "Epoch 4, iter 1600, loss 0.0525\n",
      "Epoch 4, iter 1700, loss 0.0512\n",
      "Epoch 4, iter 1800, loss 0.0537\n"
     ]
    }
   ],
   "source": [
    "train(model, train_loader, optimizer, num_epochs=5)"
   ]
  },
  {
   "cell_type": "code",
   "execution_count": 77,
   "metadata": {},
   "outputs": [
    {
     "data": {
      "image/png": "[encoded data removed]",
      "text/plain": [
       "<Figure size 640x480 with 1 Axes>"
      ]
     },
     "metadata": {},
     "output_type": "display_data"
    },
    {
     "data": {
      "image/png": "[encoded data removed]",
      "text/plain": [
       "<Figure size 640x480 with 1 Axes>"
      ]
     },
     "metadata": {},
     "output_type": "display_data"
    },
    {
     "name": "stdout",
     "output_type": "stream",
     "text": [
      "torch.Size([1568])\n"
     ]
    },
    {
     "data": {
      "text/plain": [
       "<matplotlib.image.AxesImage at 0x7f804651d570>"
      ]
     },
     "execution_count": 77,
     "metadata": {},
     "output_type": "execute_result"
    },
    {
     "data": {
      "image/png": "[encoded data removed]",
      "text/plain": [
       "<Figure size 640x480 with 1 Axes>"
      ]
     },
     "metadata": {},
     "output_type": "display_data"
    }
   ],
   "source": [
    "#save model to file\n",
    "torch.save(model.state_dict(), 'vq_vae.pth')\n",
    "\n",
    "#print reconsturction and original image\n",
    "x, _ = next(iter(val_loader))\n",
    "\n",
    "x_hat, _, codes = model(x)\n",
    "\n",
    "import matplotlib.pyplot as plt\n",
    "plt.imshow(x[1, 0])\n",
    "plt.show()\n",
    "plt.imshow(x_hat[1, 0].detach())\n",
    "plt.show()\n",
    "\n",
    "print(codes.shape)\n",
    "\n",
    "# reshape to 32*7*7\n",
    "\n",
    "codes = codes.view(32, 7, 7)\n",
    "\n",
    "# print codes\n",
    "\n",
    "plt.imshow(codes[1])\n"
   ]
  },
  {
   "cell_type": "code",
   "execution_count": null,
   "metadata": {},
   "outputs": [],
   "source": []
  }
 ],
 "metadata": {
  "kernelspec": {
   "display_name": "pytorch_masters",
   "language": "python",
   "name": "python3"
  },
  "language_info": {
   "codemirror_mode": {
    "name": "ipython",
    "version": 3
   },
   "file_extension": ".py",
   "mimetype": "text/x-python",
   "name": "python",
   "nbconvert_exporter": "python",
   "pygments_lexer": "ipython3",
   "version": "3.10.11"
  },
  "orig_nbformat": 4
 },
 "nbformat": 4,
 "nbformat_minor": 2
}
