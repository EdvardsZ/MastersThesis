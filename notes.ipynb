{
 "cells": [
  {
   "cell_type": "markdown",
   "metadata": {},
   "source": [
    "# Notes\n",
    "\n",
    "## Useful regex\n",
    "\n",
    "```\n",
    "^(?=.*(?:VQVAE\\(|SCVQVAE2D)).*$\n",
    "```\n",
    "\n",
    "```\n",
    "^(?=.*(?:VAE\\(|SCVAE2D)).*$\n",
    "```\n",
    "\n",
    "```\n",
    "^(?=.*(?:VQVAE\\(|SCVQVAE1D)).*$\n",
    "```\n",
    "\n",
    "```\n",
    "^(?=.*(?:VAE\\(|SCVAE1D)).*$\n",
    "```\n",
    "\n",
    "## SCVQVAE2D vs VQVAE\n",
    "\n",
    "```\n",
    "^(?=.*(?:VQVAE\\(|SCVQVAE2D)).*$\n",
    "```\n",
    "\n",
    "### Exact pixel sampling\n",
    "\n",
    "```\n",
    "^(?=.*VQVAE\\()|(?=.*SCVQVAE2D.*pixel_sampling=EXACT).*$\n",
    "```\n",
    "MNIST present somewhere in the string: \n",
    "\n",
    "```\n",
    "^(?=.*MNIST)(?=.*VQVAE\\()|(?=.*MNIST)(?=.*SCVQVAE2D.*pixel_sampling=EXACT).*$\n",
    "```\n",
    "\n",
    "### Uniform pixel sampling\n",
    "\n",
    "```\n",
    "^(?=.*VQVAE\\()|(?=.*SCVQVAE2D.*pixel_sampling=UNIFORM).*$\n",
    "```\n",
    "\n",
    "MNIST present somewhere in the string: \n",
    "\n",
    "```\n",
    "^(?=.*MNIST)(?=.*VQVAE\\()|(?=.*MNIST)(?=.*SCVQVAE2D.*pixel_sampling=UNIFORM).*$\n",
    "```\n",
    "\n",
    "## SCVQVAE1D vs VQVAE\n",
    "\n"
   ]
  },
  {
   "cell_type": "code",
   "execution_count": null,
   "metadata": {},
   "outputs": [],
   "source": []
  },
  {
   "cell_type": "code",
   "execution_count": null,
   "metadata": {},
   "outputs": [],
   "source": []
  }
 ],
 "metadata": {
  "language_info": {
   "name": "python"
  }
 },
 "nbformat": 4,
 "nbformat_minor": 2
}
