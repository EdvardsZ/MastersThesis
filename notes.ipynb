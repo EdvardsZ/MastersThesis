{
 "cells": [
  {
   "cell_type": "markdown",
   "metadata": {},
   "source": [
    "# Notes"
   ]
  },
  {
   "cell_type": "code",
   "execution_count": 28,
   "metadata": {},
   "outputs": [],
   "source": [
    "def get_regex(dataset = \"MNIST\", model = \"VAE\", method = \"SCVAE1D\", pixel_sampling = \"EXACT\"):\n",
    "    return f\"^(?=.*{dataset})(?={model}\\()|(?=.*{dataset})(?=.*{method}.*pixel_sampling={pixel_sampling}).*$\"\n",
    "\n",
    "def get_regex_for_each_dataset(model = \"VAE\", method = \"SCVAE1D\", pixel_sampling = \"EXACT\"):\n",
    "    datasets = [\"MNIST\", \"CIFAR10\"]\n",
    "    return [get_regex(dataset, model, method, pixel_sampling) for dataset in datasets]\n",
    "\n",
    "def print_regex_for_each_dataset(model = \"VAE\", method = \"SCVAE1D\", pixel_sampling = \"EXACT\"):\n",
    "    for i, regex in enumerate(get_regex_for_each_dataset(model, method, pixel_sampling)):\n",
    "        print(f\"{i}. = {regex}\")\n",
    "\n",
    "def print_regex_for_each_sampling(model = \"VAE\", method = \"SCVAE1D\", pixel_sampling_methods = [\"EXACT\", \"UNIFORM\"]):\n",
    "    for i, method in enumerate(pixel_sampling_methods):\n",
    "        print(\"*\"*50)\n",
    "        print(f\"Pixel sampling method: {method}\")\n",
    "        print_regex_for_each_dataset(model, method, method)\n",
    "\n",
    "def print_regex_for_two_decoder_method(model = \"VAE\"):\n",
    "\n",
    "    method = \"SCVAE2D\" if model == \"VAE\" else \"SCVQVAE2D\"\n",
    "    pixel_sampling_methods = [\"EXACT\", \"UNIFORM\"]\n",
    "\n",
    "    print_regex_for_each_sampling(model, method)\n",
    "\n",
    "def print_regex_for_one_decoder_method(model = \"VAE\"):\n",
    "\n",
    "    method = \"SCVAE1D\" if model == \"VAE\" else \"SCVQVAE1D\"\n",
    "    pixel_sampling_methods = [\"UNIFORM\", \"GAUSSIAN\"]\n",
    "\n",
    "    print_regex_for_each_sampling(model, method)\n",
    "    "
   ]
  },
  {
   "cell_type": "markdown",
   "metadata": {},
   "source": [
    "# Gaussian VAEs\n",
    "\n",
    "## SCVAE2D vs VAE"
   ]
  },
  {
   "cell_type": "code",
   "execution_count": 29,
   "metadata": {},
   "outputs": [
    {
     "name": "stdout",
     "output_type": "stream",
     "text": [
      "**************************************************\n",
      "Pixel sampling method: EXACT\n",
      "0. = ^(?=.*MNIST)(?=VAE\\()|(?=.*MNIST)(?=.*EXACT.*pixel_sampling=EXACT).*$\n",
      "1. = ^(?=.*CIFAR10)(?=VAE\\()|(?=.*CIFAR10)(?=.*EXACT.*pixel_sampling=EXACT).*$\n",
      "**************************************************\n",
      "Pixel sampling method: UNIFORM\n",
      "0. = ^(?=.*MNIST)(?=VAE\\()|(?=.*MNIST)(?=.*UNIFORM.*pixel_sampling=UNIFORM).*$\n",
      "1. = ^(?=.*CIFAR10)(?=VAE\\()|(?=.*CIFAR10)(?=.*UNIFORM.*pixel_sampling=UNIFORM).*$\n"
     ]
    }
   ],
   "source": [
    "print_regex_for_two_decoder_method(\"VAE\")"
   ]
  },
  {
   "cell_type": "markdown",
   "metadata": {},
   "source": [
    "## SCVAE1D vs VAE"
   ]
  },
  {
   "cell_type": "code",
   "execution_count": 30,
   "metadata": {},
   "outputs": [
    {
     "name": "stdout",
     "output_type": "stream",
     "text": [
      "**************************************************\n",
      "Pixel sampling method: EXACT\n",
      "0. = ^(?=.*MNIST)(?=VAE\\()|(?=.*MNIST)(?=.*EXACT.*pixel_sampling=EXACT).*$\n",
      "1. = ^(?=.*CIFAR10)(?=VAE\\()|(?=.*CIFAR10)(?=.*EXACT.*pixel_sampling=EXACT).*$\n",
      "**************************************************\n",
      "Pixel sampling method: UNIFORM\n",
      "0. = ^(?=.*MNIST)(?=VAE\\()|(?=.*MNIST)(?=.*UNIFORM.*pixel_sampling=UNIFORM).*$\n",
      "1. = ^(?=.*CIFAR10)(?=VAE\\()|(?=.*CIFAR10)(?=.*UNIFORM.*pixel_sampling=UNIFORM).*$\n"
     ]
    }
   ],
   "source": [
    "print_regex_for_one_decoder_method(\"VAE\")"
   ]
  },
  {
   "cell_type": "markdown",
   "metadata": {},
   "source": [
    "# VQ-VAEs\n",
    "\n",
    "## SCVQVAE2D vs VQVAEs"
   ]
  },
  {
   "cell_type": "code",
   "execution_count": 32,
   "metadata": {},
   "outputs": [
    {
     "name": "stdout",
     "output_type": "stream",
     "text": [
      "**************************************************\n",
      "Pixel sampling method: EXACT\n",
      "0. = ^(?=.*MNIST)(?=VQVAE\\()|(?=.*MNIST)(?=.*EXACT.*pixel_sampling=EXACT).*$\n",
      "1. = ^(?=.*CIFAR10)(?=VQVAE\\()|(?=.*CIFAR10)(?=.*EXACT.*pixel_sampling=EXACT).*$\n",
      "**************************************************\n",
      "Pixel sampling method: UNIFORM\n",
      "0. = ^(?=.*MNIST)(?=VQVAE\\()|(?=.*MNIST)(?=.*UNIFORM.*pixel_sampling=UNIFORM).*$\n",
      "1. = ^(?=.*CIFAR10)(?=VQVAE\\()|(?=.*CIFAR10)(?=.*UNIFORM.*pixel_sampling=UNIFORM).*$\n"
     ]
    }
   ],
   "source": [
    "print_regex_for_two_decoder_method(\"VQVAE\")"
   ]
  },
  {
   "cell_type": "markdown",
   "metadata": {},
   "source": [
    "## SCVQVAE1D vs VQVAEs"
   ]
  },
  {
   "cell_type": "code",
   "execution_count": 33,
   "metadata": {},
   "outputs": [
    {
     "name": "stdout",
     "output_type": "stream",
     "text": [
      "**************************************************\n",
      "Pixel sampling method: EXACT\n",
      "0. = ^(?=.*MNIST)(?=VQVAE\\()|(?=.*MNIST)(?=.*EXACT.*pixel_sampling=EXACT).*$\n",
      "1. = ^(?=.*CIFAR10)(?=VQVAE\\()|(?=.*CIFAR10)(?=.*EXACT.*pixel_sampling=EXACT).*$\n",
      "**************************************************\n",
      "Pixel sampling method: UNIFORM\n",
      "0. = ^(?=.*MNIST)(?=VQVAE\\()|(?=.*MNIST)(?=.*UNIFORM.*pixel_sampling=UNIFORM).*$\n",
      "1. = ^(?=.*CIFAR10)(?=VQVAE\\()|(?=.*CIFAR10)(?=.*UNIFORM.*pixel_sampling=UNIFORM).*$\n"
     ]
    }
   ],
   "source": [
    "print_regex_for_one_decoder_method(\"VQVAE\")"
   ]
  },
  {
   "cell_type": "markdown",
   "metadata": {},
   "source": [
    "\n",
    "\n",
    "### Useful regex\n",
    "\n",
    "```\n",
    "^(?=.*(?:VQVAE\\(|SCVQVAE2D)).*$\n",
    "```\n",
    "\n",
    "```\n",
    "^(?=.*(?:VAE\\(|SCVAE2D)).*$\n",
    "```\n",
    "\n",
    "```\n",
    "^(?=.*(?:VQVAE\\(|SCVQVAE1D)).*$\n",
    "```\n",
    "\n",
    "```\n",
    "^(?=.*(?:VAE\\(|SCVAE1D)).*$\n",
    "```"
   ]
  }
 ],
 "metadata": {
  "kernelspec": {
   "display_name": "pytorch2.1",
   "language": "python",
   "name": "python3"
  },
  "language_info": {
   "codemirror_mode": {
    "name": "ipython",
    "version": 3
   },
   "file_extension": ".py",
   "mimetype": "text/x-python",
   "name": "python",
   "nbconvert_exporter": "python",
   "pygments_lexer": "ipython3",
   "version": "3.10.13"
  }
 },
 "nbformat": 4,
 "nbformat_minor": 2
}
