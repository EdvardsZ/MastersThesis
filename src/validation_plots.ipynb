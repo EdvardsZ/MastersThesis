{
 "cells": [
  {
   "cell_type": "code",
   "execution_count": 70,
   "metadata": {},
   "outputs": [
    {
     "name": "stdout",
     "output_type": "stream",
     "text": [
      "Index(['epoch',\n",
      "       'Group: SCVAE2D(64)?dataset=CelebA&batch_size=128&count_sampling=EXACT&pixel_sampling=EXACT&max_epochs=100 - val_kl_loss',\n",
      "       'Group: SCVAE2D(64)?dataset=CelebA&batch_size=128&count_sampling=EXACT&pixel_sampling=EXACT&max_epochs=100 - val_kl_loss__MIN',\n",
      "       'Group: SCVAE2D(64)?dataset=CelebA&batch_size=128&count_sampling=EXACT&pixel_sampling=EXACT&max_epochs=100 - val_kl_loss__MAX',\n",
      "       'Group: VAE(64)?dataset=CelebA&batch_size=128&max_epochs=100 - val_kl_loss',\n",
      "       'Group: VAE(64)?dataset=CelebA&batch_size=128&max_epochs=100 - val_kl_loss__MIN',\n",
      "       'Group: VAE(64)?dataset=CelebA&batch_size=128&max_epochs=100 - val_kl_loss__MAX'],\n",
      "      dtype='object')\n",
      "Group: SCVAE2D(64)?dataset=CelebA&batch_size=128&count_sampling=EXACT&pixel_sampling=EXACT&max_epochs=100 - val_kl_loss\n",
      "Group: VAE(64)?dataset=CelebA&batch_size=128&max_epochs=100 - val_kl_loss\n"
     ]
    }
   ],
   "source": [
    "from gettext import find\n",
    "from requests import get\n",
    "import torch\n",
    "import torch.nn as nn\n",
    "import pandas as pd\n",
    "import matplotlib.pyplot as plt\n",
    "import matplotlib\n",
    "matplotlib.use(\"pgf\")\n",
    "matplotlib.rcParams.update({\n",
    "    \"pgf.texsystem\": \"pdflatex\",\n",
    "    'font.family': 'serif',\n",
    "    'text.usetex': True,\n",
    "    'pgf.rcfonts': False,\n",
    "})\n",
    "from crossval_result_loader import get_reduction_factor\n",
    "from seaborn import lineplot\n",
    "\n",
    "path_to_csv = \"plots/SCVAE2D_EXACT/kl_loss_cross.csv\"\n",
    "\n",
    "df = pd.read_csv(path_to_csv)\n",
    "\n",
    "# drop columns that are not needed\n",
    "for column in df.columns:\n",
    "    if \"step\" in column:\n",
    "        df = df.drop(column, axis=1)\n",
    "\n",
    "print(df.columns)\n",
    "\n",
    "def get_main_columns(df):\n",
    "    main = []\n",
    "    for column_0 in df.columns:\n",
    "        for column_1 in df.columns:\n",
    "            if column_0 in column_1 and column_0 != column_1 and column_0 not in main and column_0 != \"epoch\":\n",
    "                main.append(column_0)\n",
    "                print(column_0)\n",
    "    return main\n",
    "    \n",
    "\n",
    "def plot_csv_crossval(df, title=\"KL Loss\", y_label=\"KL Loss\"):\n",
    "    # title\n",
    "    plt.title(\"KL Loss\")\n",
    "    # y label\n",
    "    plt.ylabel(\"KL Loss\")\n",
    "    for main_column in get_main_columns(df):\n",
    "        ax = lineplot(data=df, x=df[\"epoch\"], y=main_column, errorbar=None)\n",
    "        ax.fill_between(df[\"epoch\"], df[main_column + \"__MIN\"], df[main_column + \"__MAX\"], alpha=0.2)\n",
    "        \n",
    "    # save plot as pgf\n",
    "    plt.savefig(\"../paper/figures/scvae2d_kl_loss.pgf\")\n",
    "\n",
    "\n",
    "    \n",
    "plot_csv_crossval(df)"
   ]
  },
  {
   "cell_type": "code",
   "execution_count": null,
   "metadata": {},
   "outputs": [],
   "source": []
  }
 ],
 "metadata": {
  "kernelspec": {
   "display_name": "pytorch-latest",
   "language": "python",
   "name": "python3"
  },
  "language_info": {
   "codemirror_mode": {
    "name": "ipython",
    "version": 3
   },
   "file_extension": ".py",
   "mimetype": "text/x-python",
   "name": "python",
   "nbconvert_exporter": "python",
   "pygments_lexer": "ipython3",
   "version": "3.10.14"
  }
 },
 "nbformat": 4,
 "nbformat_minor": 2
}
