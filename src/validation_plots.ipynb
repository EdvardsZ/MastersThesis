{
 "cells": [
  {
   "cell_type": "code",
   "execution_count": 6,
   "metadata": {},
   "outputs": [
    {
     "name": "stdout",
     "output_type": "stream",
     "text": [
      "tensor(2.0022)\n",
      "tensor(7233355.5000)\n",
      "tensor(2.0022)\n",
      "tensor(2.0022)\n"
     ]
    }
   ],
   "source": [
    "import torch\n",
    "import torch.nn as nn\n",
    "\n",
    "BATCH_SIZE = 24\n",
    "\n",
    "randn_a = torch.randn(BATCH_SIZE, 3, 224, 224)\n",
    "randn_b = torch.randn(BATCH_SIZE, 3, 224, 224)\n",
    "\n",
    "mse_mean = nn.MSELoss(reduction='mean')\n",
    "mse_sum = nn.MSELoss(reduction='sum')\n",
    "\n",
    "print(mse_mean(randn_a, randn_b))\n",
    "print(mse_sum(randn_a, randn_b))\n",
    "\n",
    "print(mse_mean(randn_a, randn_b))\n",
    "print(mse_sum(randn_a, randn_b) / (BATCH_SIZE * 224 * 224 * 3))\n",
    "\n",
    "\n",
    "\n"
   ]
  },
  {
   "cell_type": "code",
   "execution_count": null,
   "metadata": {},
   "outputs": [],
   "source": []
  }
 ],
 "metadata": {
  "kernelspec": {
   "display_name": "pytorch-latest",
   "language": "python",
   "name": "python3"
  },
  "language_info": {
   "codemirror_mode": {
    "name": "ipython",
    "version": 3
   },
   "file_extension": ".py",
   "mimetype": "text/x-python",
   "name": "python",
   "nbconvert_exporter": "python",
   "pygments_lexer": "ipython3",
   "version": "3.10.14"
  }
 },
 "nbformat": 4,
 "nbformat_minor": 2
}
