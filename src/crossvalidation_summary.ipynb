{
 "cells": [
  {
   "cell_type": "code",
   "execution_count": 20,
   "metadata": {},
   "outputs": [
    {
     "name": "stdout",
     "output_type": "stream",
     "text": [
      "Loading results...\n",
      "test_recon_loss_0: 0.0027908134274184705 ± 8.83935007784005e-09\n",
      "test_embeddding_loss: 0.00805251793935895 ± 2.9883244209747555e-07\n",
      "test_commitment_loss: 0.0020131294848397376 ± 1.867702763109222e-08\n",
      "test_vq_loss: 0.010065646283328534 ± 4.669239887607202e-07\n",
      "test_recon_0 + vq_loss: 0.012856460548937321 ± 5.428369422669914e-07\n",
      "test_loss_sum: 0.012856460548937321 ± 5.428369422669914e-07\n",
      "test_loss: 0.012856460548937321 ± 5.428369422669914e-07\n",
      "Done.\n"
     ]
    }
   ],
   "source": [
    "import os\n",
    "import torch\n",
    "\n",
    "dataset = \"MNIST\"\n",
    "project_name = \"MTVAEs_05.01-cross-val\"\n",
    "directory = f\"assets/results/raw/{project_name}/{dataset}/\"\n",
    "\n",
    "class Loss:\n",
    "    def __init__(self, loss_name: str, average: float, std: float):\n",
    "        self.loss_name = loss_name\n",
    "        self.average = average\n",
    "        self.std = std    \n",
    "\n",
    "class Result:\n",
    "    def __init__(self, filename: str, data: dict):\n",
    "        self.filename = filename\n",
    "        self.data = data\n",
    "        \n",
    "def get_results(data: list)-> dict[str, Loss]:\n",
    "    \n",
    "    \n",
    "    \n",
    "    losses: dict[str, Loss]= {}\n",
    "    \n",
    "    first : dict = data[0][0]\n",
    "    \n",
    "    keys = first.keys()\n",
    "    \n",
    "    for key in keys:\n",
    "        values = []\n",
    "        for item in data:\n",
    "            values.append(item[0][key])\n",
    "            \n",
    "        average = sum(values) / len(values)\n",
    "        std = sum([(value - average)**2 for value in values]) / len(values)\n",
    "        print (f\"{key}: {average} ± {std}\")\n",
    "        \n",
    "        losses[key] = Loss(key, average, std)\n",
    "        \n",
    "    return losses\n",
    "        \n",
    "        \n",
    "    \n",
    "    \n",
    "\n",
    "# iterate over all files in the directory\n",
    "results = []\n",
    "print(\"Loading results...\")\n",
    "for filename in os.listdir(directory):\n",
    "    if filename.endswith(\".pt\"):\n",
    "        # load the file\n",
    "        data = torch.load(directory + filename)\n",
    "        \n",
    "        result = {}\n",
    "        get_results(data)\n",
    "        results.append(Result(filename, data))\n",
    "        #print(f\"Loaded {filename}\")\n",
    "        break\n",
    "print(\"Done.\")\n",
    "\n",
    "# Get the results for the VQ-VAEs\n",
    "\n",
    "\n",
    "\n",
    "\n",
    "\n",
    "\n",
    "        \n",
    "\n",
    "\n",
    "\n"
   ]
  },
  {
   "cell_type": "code",
   "execution_count": null,
   "metadata": {},
   "outputs": [],
   "source": []
  }
 ],
 "metadata": {
  "kernelspec": {
   "display_name": "pytorch2.1",
   "language": "python",
   "name": "python3"
  },
  "language_info": {
   "codemirror_mode": {
    "name": "ipython",
    "version": 3
   },
   "file_extension": ".py",
   "mimetype": "text/x-python",
   "name": "python",
   "nbconvert_exporter": "python",
   "pygments_lexer": "ipython3",
   "version": "3.10.13"
  }
 },
 "nbformat": 4,
 "nbformat_minor": 2
}
