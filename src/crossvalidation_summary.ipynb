{
 "cells": [
  {
   "cell_type": "code",
   "execution_count": 22,
   "metadata": {},
   "outputs": [
    {
     "name": "stdout",
     "output_type": "stream",
     "text": [
      "Loading results...\n",
      "Loaded:  45\n",
      "Done.\n"
     ]
    }
   ],
   "source": [
    "import os\n",
    "import torch\n",
    "\n",
    "dataset = \"MNIST\"\n",
    "project_name = \"MTVAEs_05.01-cross-val\"\n",
    "directory = f\"assets/results/raw/{project_name}/{dataset}/\"\n",
    "\n",
    "class Loss:\n",
    "    def __init__(self, loss_name: str, average: float, std: float):\n",
    "        self.loss_name = loss_name\n",
    "        self.average = average\n",
    "        self.std = std    \n",
    "\n",
    "class Result:\n",
    "    def __init__(self, filename: str, data: dict[str, Loss]):\n",
    "        self.filename = filename\n",
    "        self.data = data\n",
    "        \n",
    "def get_crossval_results(data: list)-> dict[str, Loss]:\n",
    "    losses: dict[str, Loss]= {}\n",
    "    \n",
    "    first : dict = data[0][0]\n",
    "    \n",
    "    keys = first.keys()\n",
    "    \n",
    "    for key in keys:\n",
    "        values = []\n",
    "        for item in data:\n",
    "            values.append(item[0][key])\n",
    "            \n",
    "        average = sum(values) / len(values)\n",
    "        std = sum([(value - average)**2 for value in values]) / len(values)\n",
    "        print (f\"{key}: {average} ± {std}\")\n",
    "        \n",
    "        losses[key] = Loss(key, average, std)\n",
    "        \n",
    "    return losses\n",
    "\n",
    "def get_results(directory: str) -> list[Result]:\n",
    "    results = []\n",
    "    print(\"Loading results...\")\n",
    "    for filename in os.listdir(directory):\n",
    "        if filename.endswith(\".pt\"):\n",
    "            # load the file\n",
    "            data = torch.load(directory + filename)\n",
    "            results.append(Result(filename, data))\n",
    "            #print(f\"Loaded {filename}\")\n",
    "            \n",
    "    print(\"Loaded: \", len(results))\n",
    "    print(\"Done.\")\n",
    "    return results\n",
    "      \n",
    "results = get_results(directory)"
   ]
  },
  {
   "cell_type": "code",
   "execution_count": null,
   "metadata": {},
   "outputs": [],
   "source": []
  }
 ],
 "metadata": {
  "kernelspec": {
   "display_name": "pytorch2.1",
   "language": "python",
   "name": "python3"
  },
  "language_info": {
   "codemirror_mode": {
    "name": "ipython",
    "version": 3
   },
   "file_extension": ".py",
   "mimetype": "text/x-python",
   "name": "python",
   "nbconvert_exporter": "python",
   "pygments_lexer": "ipython3",
   "version": "3.10.13"
  }
 },
 "nbformat": 4,
 "nbformat_minor": 2
}
