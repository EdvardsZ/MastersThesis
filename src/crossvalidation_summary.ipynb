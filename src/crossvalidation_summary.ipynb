{
 "cells": [
  {
   "cell_type": "code",
   "execution_count": 9,
   "metadata": {},
   "outputs": [
    {
     "name": "stdout",
     "output_type": "stream",
     "text": [
      "Loading results...\n",
      "Done.\n"
     ]
    }
   ],
   "source": [
    "import os\n",
    "import torch\n",
    "\n",
    "dataset = \"MNIST\"\n",
    "project_name = \"MTVAEs_05.01-cross-val\"\n",
    "directory = f\"assets/results/raw/{project_name}/{dataset}/\"\n",
    "\n",
    "class Result:\n",
    "    def __init__(self, filename: str, data: dict):\n",
    "        self.filename = filename\n",
    "        self.data = data\n",
    "\n",
    "# iterate over all files in the directory\n",
    "results = []\n",
    "print(\"Loading results...\")\n",
    "for filename in os.listdir(directory):\n",
    "    if filename.endswith(\".pt\"):\n",
    "        # load the file\n",
    "        data = torch.load(directory + filename)\n",
    "        results.append(Result(filename, data))\n",
    "        #print(f\"Loaded {filename}\")\n",
    "print(\"Done.\")\n",
    "        \n",
    "\n",
    "\n",
    "\n"
   ]
  },
  {
   "cell_type": "code",
   "execution_count": null,
   "metadata": {},
   "outputs": [],
   "source": []
  }
 ],
 "metadata": {
  "kernelspec": {
   "display_name": "pytorch2.1",
   "language": "python",
   "name": "python3"
  },
  "language_info": {
   "codemirror_mode": {
    "name": "ipython",
    "version": 3
   },
   "file_extension": ".py",
   "mimetype": "text/x-python",
   "name": "python",
   "nbconvert_exporter": "python",
   "pygments_lexer": "ipython3",
   "version": "3.10.13"
  }
 },
 "nbformat": 4,
 "nbformat_minor": 2
}
