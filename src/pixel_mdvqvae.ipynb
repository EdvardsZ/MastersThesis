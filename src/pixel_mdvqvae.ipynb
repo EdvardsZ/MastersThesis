{
 "cells": [
  {
   "cell_type": "code",
   "execution_count": 5,
   "metadata": {},
   "outputs": [
    {
     "name": "stdout",
     "output_type": "stream",
     "text": [
      "torch.Size([32, 1, 28, 28])\n",
      "torch.Size([32, 1, 28, 28])\n"
     ]
    }
   ],
   "source": [
    "import torch\n",
    "from datasets import load_dataset, get_observation_pixels\n",
    "import numpy as np\n",
    "import matplotlib.pyplot as plt\n",
    "import torch.optim as optim\n",
    "\n",
    "from config import load_config, get_model_name\n",
    "config = load_config(\"PixelMDVQVAE\")\n",
    "\n",
    "train_loader, test_loader, val_loader = load_dataset(config[\"data_params\"])\n",
    "\n",
    "model_name = get_model_name(config)\n",
    "\n",
    "from models import PixelMDVQVAE\n",
    "\n",
    "model = PixelMDVQVAE(**config[\"model_params\"])\n",
    "\n",
    "randn = torch.randn(32, 1, 28, 28)\n",
    "\n",
    "output, _, _, _ = model(randn, randn, randn)\n",
    "\n",
    "print(output[0].shape)\n",
    "print(output[1].shape)"
   ]
  },
  {
   "cell_type": "code",
   "execution_count": 6,
   "metadata": {},
   "outputs": [
    {
     "name": "stderr",
     "output_type": "stream",
     "text": [
      "/Home/siv34/edzak2974/.conda/envs/pytorch2.1/lib/python3.10/site-packages/torch/nn/modules/lazy.py:180: UserWarning: Lazy modules are a new feature under heavy development so changes to the API or functionality can happen at any moment.\n",
      "  warnings.warn('Lazy modules are a new feature under heavy development '\n",
      "/Home/siv34/edzak2974/.conda/envs/pytorch2.1/lib/python3.10/site-packages/lightning/fabric/plugins/environments/slurm.py:191: The `srun` command is available on your system but is not used. HINT: If your intention is to run Lightning on SLURM, prepend your python command with `srun` like so: srun python /Home/siv34/edzak2974/.conda/envs/pytorch2.1/lib/pyt ...\n",
      "GPU available: True (cuda), used: True\n",
      "TPU available: False, using: 0 TPU cores\n",
      "IPU available: False, using: 0 IPUs\n",
      "HPU available: False, using: 0 HPUs\n",
      "You are using a CUDA device ('A100-SXM4-80GB') that has Tensor Cores. To properly utilize them, you should set `torch.set_float32_matmul_precision('medium' | 'high')` which will trade-off precision for performance. For more details, read https://pytorch.org/docs/stable/generated/torch.set_float32_matmul_precision.html#torch.set_float32_matmul_precision\n",
      "Failed to detect the name of this notebook, you can set it manually with the WANDB_NOTEBOOK_NAME environment variable to enable code saving.\n",
      "\u001b[34m\u001b[1mwandb\u001b[0m: Currently logged in as: \u001b[33medvardsz\u001b[0m. Use \u001b[1m`wandb login --relogin`\u001b[0m to force relogin\n"
     ]
    },
    {
     "data": {
      "text/html": [
       "Tracking run with wandb version 0.15.12"
      ],
      "text/plain": [
       "<IPython.core.display.HTML object>"
      ]
     },
     "metadata": {},
     "output_type": "display_data"
    },
    {
     "data": {
      "text/html": [
       "Run data is saved locally in <code>./wandb/run-20231023_150225-3dsmrv19</code>"
      ],
      "text/plain": [
       "<IPython.core.display.HTML object>"
      ]
     },
     "metadata": {},
     "output_type": "display_data"
    },
    {
     "data": {
      "text/html": [
       "Syncing run <strong><a href='https://wandb.ai/edvardsz/MultiTaskVariationalAutoecnoders/runs/3dsmrv19' target=\"_blank\">PixelConditionedVQVAE(128_16)?dataset=MNIST&batch_size=128&max_epochs=50</a></strong> to <a href='https://wandb.ai/edvardsz/MultiTaskVariationalAutoecnoders' target=\"_blank\">Weights & Biases</a> (<a href='https://wandb.me/run' target=\"_blank\">docs</a>)<br/>"
      ],
      "text/plain": [
       "<IPython.core.display.HTML object>"
      ]
     },
     "metadata": {},
     "output_type": "display_data"
    },
    {
     "data": {
      "text/html": [
       " View project at <a href='https://wandb.ai/edvardsz/MultiTaskVariationalAutoecnoders' target=\"_blank\">https://wandb.ai/edvardsz/MultiTaskVariationalAutoecnoders</a>"
      ],
      "text/plain": [
       "<IPython.core.display.HTML object>"
      ]
     },
     "metadata": {},
     "output_type": "display_data"
    },
    {
     "data": {
      "text/html": [
       " View run at <a href='https://wandb.ai/edvardsz/MultiTaskVariationalAutoecnoders/runs/3dsmrv19' target=\"_blank\">https://wandb.ai/edvardsz/MultiTaskVariationalAutoecnoders/runs/3dsmrv19</a>"
      ],
      "text/plain": [
       "<IPython.core.display.HTML object>"
      ]
     },
     "metadata": {},
     "output_type": "display_data"
    },
    {
     "name": "stderr",
     "output_type": "stream",
     "text": [
      "/Home/siv34/edzak2974/.conda/envs/pytorch2.1/lib/python3.10/site-packages/lightning/pytorch/callbacks/model_checkpoint.py:630: Checkpoint directory /Home/siv34/edzak2974/projects/MastersThesis/src/checkpoints exists and is not empty.\n",
      "LOCAL_RANK: 0 - CUDA_VISIBLE_DEVICES: [0,1,2,3,4,5,6,7]\n",
      "/Home/siv34/edzak2974/.conda/envs/pytorch2.1/lib/python3.10/site-packages/lightning/pytorch/utilities/model_summary/model_summary.py:452: A layer with UninitializedParameter was found. Thus, the total number of parameters detected may be inaccurate.\n",
      "\n",
      "  | Name  | Type                  | Params\n",
      "------------------------------------------------\n",
      "0 | model | PixelConditionedVQVAE | 9.3 M \n",
      "------------------------------------------------\n",
      "9.3 M     Trainable params\n",
      "0         Non-trainable params\n",
      "9.3 M     Total params\n",
      "37.280    Total estimated model params size (MB)\n"
     ]
    },
    {
     "name": "stdout",
     "output_type": "stream",
     "text": [
      "Epoch 36:   0%|          | 0/469 [00:00<?, ?it/s, v_num=rv19, train_loss=0.122, train_recon_loss=0.0579, train_vq_loss=0.0645, train_commitment_loss=0.043, train_embeddding_loss=0.043, val_loss=0.131, val_recon_loss=0.0626, val_vq_loss=0.068, val_commitment_loss=0.0453, val_embeddding_loss=0.0453]             "
     ]
    }
   ],
   "source": [
    "from trainers import SuperTrainer, VAEModule\n",
    "\n",
    "model = VAEModule(config['model_params'], model_name=config['model_name'])\n",
    "\n",
    "from trainers import SuperTrainer\n",
    "trainer = SuperTrainer(**config['trainer_params'], model_name=model_name)\n",
    "trainer.fit(model, train_loader, val_loader)\n",
    "#save\n",
    "trainer.save_model_checkpoint()"
   ]
  },
  {
   "cell_type": "code",
   "execution_count": null,
   "metadata": {},
   "outputs": [],
   "source": [
    "model = VAEModule.load_model_checkpoint(model_name)\n",
    "model.eval()\n",
    "\n",
    "from plotting import plot_samples_with_reconstruction\n",
    "\n",
    "plot_samples_with_reconstruction(model, next(iter(test_loader)))"
   ]
  }
 ],
 "metadata": {
  "kernelspec": {
   "display_name": "pytorch2.1",
   "language": "python",
   "name": "python3"
  },
  "language_info": {
   "codemirror_mode": {
    "name": "ipython",
    "version": 3
   },
   "file_extension": ".py",
   "mimetype": "text/x-python",
   "name": "python",
   "nbconvert_exporter": "python",
   "pygments_lexer": "ipython3",
   "version": "3.10.13"
  }
 },
 "nbformat": 4,
 "nbformat_minor": 2
}
