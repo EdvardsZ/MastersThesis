{
 "cells": [
  {
   "cell_type": "code",
   "execution_count": null,
   "metadata": {},
   "outputs": [],
   "source": [
    "import torch\n",
    "from datasets import load_dataset, get_observation_pixels\n",
    "import numpy as np\n",
    "import matplotlib.pyplot as plt\n",
    "import torch.optim as optim\n",
    "\n",
    "from config import load_config, get_model_name\n",
    "config = load_config(\"PixelConditionedVQVAE\")\n",
    "\n",
    "train_loader, test_loader, val_loader = load_dataset(config[\"data_params\"])\n",
    "\n",
    "model_name = get_model_name(config)"
   ]
  }
 ],
 "metadata": {
  "language_info": {
   "name": "python"
  }
 },
 "nbformat": 4,
 "nbformat_minor": 2
}
