{
 "cells": [
  {
   "cell_type": "code",
   "execution_count": 3,
   "metadata": {},
   "outputs": [],
   "source": [
    "import torch\n",
    "from datasets import load_mnist, get_observation_pixels\n",
    "import numpy as np\n",
    "import matplotlib.pyplot as plt\n",
    "import torch.optim as optim\n",
    "\n",
    "BATCH_SIZE = 100\n",
    "train_loader, test_loader, val_loader = load_mnist(BATCH_SIZE)"
   ]
  },
  {
   "cell_type": "code",
   "execution_count": 4,
   "metadata": {},
   "outputs": [],
   "source": [
    "from models import SimpleVQVAE as VQVAE\n",
    "import pytorch_lightning as pl\n",
    "\n",
    "class VAETrainer(pl.LightningModule):\n",
    "    def __init__(self):\n",
    "        super(VAETrainer, self).__init__()\n",
    "        \n",
    "        self.model = VQVAE(128,16)\n",
    "        \n",
    "    def forward(self, x, x_cond, y):\n",
    "        return self.model(x)\n",
    "    \n",
    "    def step(self, batch, batch_idx, mode = 'train'):\n",
    "        x, x_cond, y = batch\n",
    "        x_hat, quantized, latent, _ = self(x, x_cond, y)\n",
    "        #x_hat, vq_loss, encoding_indices = self(x, x_cond, y)\n",
    "        loss = self.model.loss(latent, quantized, x_hat, x)\n",
    "        self.log_dict({f\"{mode}_{key}\": val.item() for key, val in loss.items()}, sync_dist=True, prog_bar=True)\n",
    "        #self.log(f\"{mode}_loss\", vq_loss)\n",
    "        return loss['loss']\n",
    "    \n",
    "    def decode(self, z):\n",
    "        return self.model.decode(z)\n",
    "        \n",
    "    def training_step(self, batch, batch_idx):\n",
    "        return self.step(batch, batch_idx, 'train')\n",
    "    def validation_step(self, batch, batch_idx):\n",
    "        return self.step(batch, batch_idx, 'val')\n",
    "    def test_step(self, batch, batch_idx):\n",
    "        return self.step(batch, batch_idx, 'test')\n",
    "    \n",
    "    def configure_optimizers(self):\n",
    "        return optim.Adam(self.model.parameters(), lr=1e-3)"
   ]
  },
  {
   "cell_type": "code",
   "execution_count": 5,
   "metadata": {},
   "outputs": [
    {
     "name": "stderr",
     "output_type": "stream",
     "text": [
      "/Home/siv34/edzak2974/.conda/envs/pytorch_masters/lib/python3.10/site-packages/lightning_fabric/plugins/environments/slurm.py:165: PossibleUserWarning: The `srun` command is available on your system but is not used. HINT: If your intention is to run Lightning on SLURM, prepend your python command with `srun` like so: srun python /Home/siv34/edzak2974/.conda/envs/pytorch_masters/li ...\n",
      "  rank_zero_warn(\n",
      "GPU available: True (cuda), used: True\n",
      "TPU available: False, using: 0 TPU cores\n",
      "IPU available: False, using: 0 IPUs\n",
      "HPU available: False, using: 0 HPUs\n",
      "/Home/siv34/edzak2974/.conda/envs/pytorch_masters/lib/python3.10/site-packages/lightning_fabric/plugins/environments/slurm.py:165: PossibleUserWarning: The `srun` command is available on your system but is not used. HINT: If your intention is to run Lightning on SLURM, prepend your python command with `srun` like so: srun python /Home/siv34/edzak2974/.conda/envs/pytorch_masters/li ...\n",
      "  rank_zero_warn(\n",
      "You are using a CUDA device ('A100-SXM4-80GB') that has Tensor Cores. To properly utilize them, you should set `torch.set_float32_matmul_precision('medium' | 'high')` which will trade-off precision for performance. For more details, read https://pytorch.org/docs/stable/generated/torch.set_float32_matmul_precision.html#torch.set_float32_matmul_precision\n",
      "/Home/siv34/edzak2974/.conda/envs/pytorch_masters/lib/python3.10/site-packages/pytorch_lightning/callbacks/model_checkpoint.py:612: UserWarning: Checkpoint directory /Home/siv34/edzak2974/projects/MastersThesis/src/checkpoints exists and is not empty.\n",
      "  rank_zero_warn(f\"Checkpoint directory {dirpath} exists and is not empty.\")\n",
      "LOCAL_RANK: 0 - CUDA_VISIBLE_DEVICES: [0,1,2,3,4,5,6,7]\n",
      "\n",
      "  | Name  | Type        | Params\n",
      "--------------------------------------\n",
      "0 | model | SimpleVQVAE | 49.9 K\n",
      "--------------------------------------\n",
      "49.9 K    Trainable params\n",
      "0         Non-trainable params\n",
      "49.9 K    Total params\n",
      "0.200     Total estimated model params size (MB)\n"
     ]
    },
    {
     "name": "stdout",
     "output_type": "stream",
     "text": [
      "Epoch 29: 100%|██████████| 600/600 [00:05<00:00, 103.66it/s, v_num=50_2, train_loss=0.0321, train_recon_loss=0.00414, train_vq_loss=0.028, train_commitment_loss=0.0224, train_embeddding_loss=0.0224, val_loss=0.0318, val_recon_loss=0.00402, val_vq_loss=0.0278, val_commitment_loss=0.0222, val_embeddding_loss=0.0222] "
     ]
    },
    {
     "name": "stderr",
     "output_type": "stream",
     "text": [
      "`Trainer.fit` stopped: `max_epochs=30` reached.\n"
     ]
    },
    {
     "name": "stdout",
     "output_type": "stream",
     "text": [
      "Epoch 29: 100%|██████████| 600/600 [00:05<00:00, 103.62it/s, v_num=50_2, train_loss=0.0321, train_recon_loss=0.00414, train_vq_loss=0.028, train_commitment_loss=0.0224, train_embeddding_loss=0.0224, val_loss=0.0318, val_recon_loss=0.00402, val_vq_loss=0.0278, val_commitment_loss=0.0222, val_embeddding_loss=0.0222]\n"
     ]
    }
   ],
   "source": [
    "from pytorch_lightning.callbacks import ModelCheckpoint\n",
    "from pytorch_lightning.loggers import TensorBoardLogger\n",
    "\n",
    "checkpoint_callback = ModelCheckpoint(\n",
    "    monitor='train_loss',\n",
    "    dirpath='checkpoints/',\n",
    "    filename='simple-vq-vae-{epoch:02d}-{val_loss:.2f}',\n",
    "    save_top_k=3,\n",
    "    mode='min',\n",
    ")\n",
    "\n",
    "logger = TensorBoardLogger('./', version=\"simple-vq_vae_50_2\")\n",
    "\n",
    "model = VAETrainer()\n",
    "\n",
    "trainer = pl.Trainer(accelerator='gpu', devices=[5], max_epochs=30, enable_progress_bar=True, callbacks=[checkpoint_callback], logger=logger)\n",
    "trainer.fit(model, train_loader, val_loader)\n",
    "#save\n",
    "trainer.save_checkpoint('checkpoints/simpel-vqvae_50.ckpt')"
   ]
  },
  {
   "cell_type": "code",
   "execution_count": 7,
   "metadata": {},
   "outputs": [
    {
     "data": {
      "image/png": "[encoded data removed]",
      "text/plain": [
       "<Figure size 640x480 with 1 Axes>"
      ]
     },
     "metadata": {},
     "output_type": "display_data"
    },
    {
     "data": {
      "image/png": "[encoded data removed]",
      "text/plain": [
       "<Figure size 640x480 with 1 Axes>"
      ]
     },
     "metadata": {},
     "output_type": "display_data"
    }
   ],
   "source": [
    "#print reconsturction and original image\n",
    "model = VAETrainer.load_from_checkpoint('checkpoints/simpel-vqvae_50.ckpt')\n",
    "x, _, _ = next(iter(val_loader))\n",
    "\n",
    "x_hat, _, _, codes = model.model(x)\n",
    "\n",
    "import matplotlib.pyplot as plt\n",
    "plt.imshow(x[0, 0])\n",
    "plt.show()\n",
    "plt.imshow(x_hat[0, 0].detach())\n",
    "plt.show()\n"
   ]
  },
  {
   "cell_type": "code",
   "execution_count": null,
   "metadata": {},
   "outputs": [],
   "source": []
  },
  {
   "cell_type": "code",
   "execution_count": null,
   "metadata": {},
   "outputs": [],
   "source": []
  }
 ],
 "metadata": {
  "kernelspec": {
   "display_name": "pytorch_masters",
   "language": "python",
   "name": "python3"
  },
  "language_info": {
   "codemirror_mode": {
    "name": "ipython",
    "version": 3
   },
   "file_extension": ".py",
   "mimetype": "text/x-python",
   "name": "python",
   "nbconvert_exporter": "python",
   "pygments_lexer": "ipython3",
   "version": "3.10.11"
  },
  "orig_nbformat": 4
 },
 "nbformat": 4,
 "nbformat_minor": 2
}
