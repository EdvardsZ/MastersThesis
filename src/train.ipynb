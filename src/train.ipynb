{
 "cells": [
  {
   "cell_type": "code",
   "execution_count": 1,
   "metadata": {},
   "outputs": [],
   "source": [
    "import torch\n",
    "from config_loader import load_config, get_model_name\n",
    "from datasets import load_dataset\n",
    "from plotting import plot_conditioned_examples\n",
    "\n",
    "config = load_config(\"VAE\")\n",
    "# Load dataset\n",
    "train_loader, val_loader, test_loader = load_dataset(config[\"data_params\"])\n",
    "\n",
    "model_name = get_model_name(config)\n",
    "\n",
    "x, x_cond, y = next(iter(train_loader))"
   ]
  },
  {
   "cell_type": "code",
   "execution_count": 3,
   "metadata": {},
   "outputs": [
    {
     "ename": "NameError",
     "evalue": "name 'model_name' is not defined",
     "output_type": "error",
     "traceback": [
      "\u001b[0;31m---------------------------------------------------------------------------\u001b[0m",
      "\u001b[0;31mNameError\u001b[0m                                 Traceback (most recent call last)",
      "\u001b[1;32m/Home/siv34/edzak2974/projects/MastersThesis/src/train.ipynb Cell 2\u001b[0m line \u001b[0;36m6\n\u001b[1;32m      <a href='vscode-notebook-cell://ssh-remote%2Bbirget/Home/siv34/edzak2974/projects/MastersThesis/src/train.ipynb#W1sdnNjb2RlLXJlbW90ZQ%3D%3D?line=1'>2</a>\u001b[0m \u001b[39mfrom\u001b[39;00m \u001b[39mmodules\u001b[39;00m \u001b[39mimport\u001b[39;00m VAEModule\n\u001b[1;32m      <a href='vscode-notebook-cell://ssh-remote%2Bbirget/Home/siv34/edzak2974/projects/MastersThesis/src/train.ipynb#W1sdnNjb2RlLXJlbW90ZQ%3D%3D?line=3'>4</a>\u001b[0m model \u001b[39m=\u001b[39m VAEModule(config[\u001b[39m'\u001b[39m\u001b[39mmodel_params\u001b[39m\u001b[39m'\u001b[39m], model_name\u001b[39m=\u001b[39mconfig[\u001b[39m'\u001b[39m\u001b[39mmodel_name\u001b[39m\u001b[39m'\u001b[39m])\n\u001b[0;32m----> <a href='vscode-notebook-cell://ssh-remote%2Bbirget/Home/siv34/edzak2974/projects/MastersThesis/src/train.ipynb#W1sdnNjb2RlLXJlbW90ZQ%3D%3D?line=5'>6</a>\u001b[0m trainer \u001b[39m=\u001b[39m ExtendedTrainer(project_name\u001b[39m=\u001b[39m\u001b[39m\"\u001b[39m\u001b[39mMultiTaskVariationalAutoecnoders_test\u001b[39m\u001b[39m\"\u001b[39m, \u001b[39m*\u001b[39m\u001b[39m*\u001b[39mconfig[\u001b[39m'\u001b[39m\u001b[39mtrainer_params\u001b[39m\u001b[39m'\u001b[39m], model_name\u001b[39m=\u001b[39mmodel_name)\n\u001b[1;32m      <a href='vscode-notebook-cell://ssh-remote%2Bbirget/Home/siv34/edzak2974/projects/MastersThesis/src/train.ipynb#W1sdnNjb2RlLXJlbW90ZQ%3D%3D?line=6'>7</a>\u001b[0m trainer\u001b[39m.\u001b[39mfit(model, train_loader, val_loader)\n\u001b[1;32m      <a href='vscode-notebook-cell://ssh-remote%2Bbirget/Home/siv34/edzak2974/projects/MastersThesis/src/train.ipynb#W1sdnNjb2RlLXJlbW90ZQ%3D%3D?line=7'>8</a>\u001b[0m \u001b[39m#save\u001b[39;00m\n",
      "\u001b[0;31mNameError\u001b[0m: name 'model_name' is not defined"
     ]
    }
   ],
   "source": [
    "from lightning_extensions import ExtendedTrainer\n",
    "from modules import VAEModule\n",
    "\n",
    "model = VAEModule(config['model_params'], model_name=config['model_name'])\n",
    "\n",
    "trainer = ExtendedTrainer(project_name=\"MultiTaskVariationalAutoecnoders_test\", **config['trainer_params'], model_name=model_name)\n",
    "trainer.fit(model, train_loader, val_loader)\n",
    "#save\n",
    "trainer.save_model_checkpoint()"
   ]
  },
  {
   "cell_type": "code",
   "execution_count": null,
   "metadata": {},
   "outputs": [],
   "source": []
  }
 ],
 "metadata": {
  "kernelspec": {
   "display_name": "pytorch2.1",
   "language": "python",
   "name": "python3"
  },
  "language_info": {
   "codemirror_mode": {
    "name": "ipython",
    "version": 3
   },
   "file_extension": ".py",
   "mimetype": "text/x-python",
   "name": "python",
   "nbconvert_exporter": "python",
   "pygments_lexer": "ipython3",
   "version": "3.10.13"
  }
 },
 "nbformat": 4,
 "nbformat_minor": 2
}
