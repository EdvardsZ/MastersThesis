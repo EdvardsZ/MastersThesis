{
 "cells": [
  {
   "cell_type": "code",
   "execution_count": 1,
   "metadata": {},
   "outputs": [
    {
     "name": "stdout",
     "output_type": "stream",
     "text": [
      "test\n"
     ]
    },
    {
     "ename": "TypeError",
     "evalue": "can only concatenate str (not \"Models\") to str",
     "output_type": "error",
     "traceback": [
      "\u001b[0;31m---------------------------------------------------------------------------\u001b[0m",
      "\u001b[0;31mTypeError\u001b[0m                                 Traceback (most recent call last)",
      "\u001b[1;32m/Home/siv34/edzak2974/projects/MastersThesis/src/train.ipynb Cell 1\u001b[0m line \u001b[0;36m5\n\u001b[1;32m      <a href='vscode-notebook-cell://ssh-remote%2Bbirget/Home/siv34/edzak2974/projects/MastersThesis/src/train.ipynb#W0sdnNjb2RlLXJlbW90ZQ%3D%3D?line=1'>2</a>\u001b[0m \u001b[39mfrom\u001b[39;00m \u001b[39mconfig\u001b[39;00m \u001b[39mimport\u001b[39;00m load_config\n\u001b[1;32m      <a href='vscode-notebook-cell://ssh-remote%2Bbirget/Home/siv34/edzak2974/projects/MastersThesis/src/train.ipynb#W0sdnNjb2RlLXJlbW90ZQ%3D%3D?line=2'>3</a>\u001b[0m \u001b[39mfrom\u001b[39;00m \u001b[39mmodels\u001b[39;00m \u001b[39mimport\u001b[39;00m Models\n\u001b[0;32m----> <a href='vscode-notebook-cell://ssh-remote%2Bbirget/Home/siv34/edzak2974/projects/MastersThesis/src/train.ipynb#W0sdnNjb2RlLXJlbW90ZQ%3D%3D?line=4'>5</a>\u001b[0m config \u001b[39m=\u001b[39m load_config(Models\u001b[39m.\u001b[39;49mVAE)\n\u001b[1;32m      <a href='vscode-notebook-cell://ssh-remote%2Bbirget/Home/siv34/edzak2974/projects/MastersThesis/src/train.ipynb#W0sdnNjb2RlLXJlbW90ZQ%3D%3D?line=5'>6</a>\u001b[0m \u001b[39mprint\u001b[39m(config)\n",
      "File \u001b[0;32m~/projects/MastersThesis/src/config.py:4\u001b[0m, in \u001b[0;36mload_config\u001b[0;34m(model_name)\u001b[0m\n\u001b[1;32m      3\u001b[0m \u001b[39mdef\u001b[39;00m \u001b[39mload_config\u001b[39m(model_name: \u001b[39mstr\u001b[39m) \u001b[39m-\u001b[39m\u001b[39m>\u001b[39m \u001b[39mdict\u001b[39m:\n\u001b[0;32m----> 4\u001b[0m     \u001b[39mreturn\u001b[39;00m yaml\u001b[39m.\u001b[39mload(\u001b[39mopen\u001b[39m(\u001b[39m'\u001b[39;49m\u001b[39mconfigs/\u001b[39;49m\u001b[39m'\u001b[39;49m \u001b[39m+\u001b[39;49m model_name \u001b[39m+\u001b[39m \u001b[39m'\u001b[39m\u001b[39m.yaml\u001b[39m\u001b[39m'\u001b[39m, \u001b[39m'\u001b[39m\u001b[39mr\u001b[39m\u001b[39m'\u001b[39m), Loader\u001b[39m=\u001b[39myaml\u001b[39m.\u001b[39mFullLoader)\n",
      "\u001b[0;31mTypeError\u001b[0m: can only concatenate str (not \"Models\") to str"
     ]
    }
   ],
   "source": [
    "import torch\n",
    "from config import load_config\n",
    "from models import Models\n",
    "\n",
    "config = load_config(\"VAE\")\n",
    "print(config)"
   ]
  },
  {
   "cell_type": "code",
   "execution_count": null,
   "metadata": {},
   "outputs": [],
   "source": []
  }
 ],
 "metadata": {
  "kernelspec": {
   "display_name": "pytorch2.1",
   "language": "python",
   "name": "python3"
  },
  "language_info": {
   "codemirror_mode": {
    "name": "ipython",
    "version": 3
   },
   "file_extension": ".py",
   "mimetype": "text/x-python",
   "name": "python",
   "nbconvert_exporter": "python",
   "pygments_lexer": "ipython3",
   "version": "3.10.13"
  }
 },
 "nbformat": 4,
 "nbformat_minor": 2
}
