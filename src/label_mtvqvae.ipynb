{
 "cells": [
  {
   "cell_type": "code",
   "execution_count": 2,
   "metadata": {},
   "outputs": [
    {
     "name": "stdout",
     "output_type": "stream",
     "text": [
      "torch.Size([32, 1, 28, 28])\n",
      "torch.Size([32, 10])\n"
     ]
    }
   ],
   "source": [
    "import torch\n",
    "from datasets import load_dataset, get_observation_pixels\n",
    "import numpy as np\n",
    "import matplotlib.pyplot as plt\n",
    "import torch.optim as optim\n",
    "\n",
    "from config import load_config, get_model_name\n",
    "config = load_config(\"LabelMTVQVAE\")\n",
    "\n",
    "train_loader, test_loader, val_loader = load_dataset(config[\"data_params\"])\n",
    "\n",
    "model_name = get_model_name(config)\n",
    "\n",
    "from models import LabelMTVQVAE\n",
    "\n",
    "model = LabelMTVQVAE(**config[\"model_params\"])\n",
    "\n",
    "randn = torch.randn(32, 1, 28, 28)\n",
    "label_randn = torch.randn(32, 10)\n",
    "\n",
    "\n",
    "output, _, _, _, classification_res = model(randn, randn, label_randn)\n",
    "\n",
    "\n",
    "print(output.shape)\n",
    "\n",
    "print(classification_res.shape)"
   ]
  },
  {
   "cell_type": "code",
   "execution_count": null,
   "metadata": {},
   "outputs": [],
   "source": [
    "from trainers import SuperTrainer, VAEModule\n",
    "\n",
    "model = VAEModule(config['model_params'], model_name=config['model_name'])\n",
    "\n",
    "from trainers import SuperTrainer\n",
    "trainer = SuperTrainer(**config['trainer_params'], model_name=model_name)\n",
    "trainer.fit(model, train_loader, val_loader)\n",
    "#save\n",
    "trainer.save_model_checkpoint()"
   ]
  }
 ],
 "metadata": {
  "kernelspec": {
   "display_name": "pytorch2.1",
   "language": "python",
   "name": "python3"
  },
  "language_info": {
   "codemirror_mode": {
    "name": "ipython",
    "version": 3
   },
   "file_extension": ".py",
   "mimetype": "text/x-python",
   "name": "python",
   "nbconvert_exporter": "python",
   "pygments_lexer": "ipython3",
   "version": "3.10.13"
  }
 },
 "nbformat": 4,
 "nbformat_minor": 2
}
