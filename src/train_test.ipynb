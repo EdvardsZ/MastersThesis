{
 "cells": [
  {
   "cell_type": "code",
   "execution_count": 4,
   "metadata": {},
   "outputs": [],
   "source": [
    "import torch\n",
    "import torch.nn as nn\n",
    "import torch.nn.functional as F\n",
    "import torchvision\n",
    "import torchvision.transforms as transforms\n",
    "\n",
    "train_dataset = torchvision.datasets.MNIST(root='./data', train=True, transform=transforms.ToTensor(), download=True)\n",
    "\n",
    "train_loader = torch.utils.data.DataLoader(dataset=train_dataset, batch_size=100, shuffle=True)\n",
    "\n",
    "val_dataset = torchvision.datasets.MNIST(root='./data', train=False, transform=transforms.ToTensor(), download=True)\n",
    "\n",
    "val_loader = torch.utils.data.DataLoader(dataset=val_dataset, batch_size=100, shuffle=False)"
   ]
  },
  {
   "cell_type": "code",
   "execution_count": 5,
   "metadata": {},
   "outputs": [],
   "source": [
    "from lightning_extensions import BaseModule\n",
    "from models import VAE\n",
    "from loss import VAELoss\n",
    "\n",
    "def kl_loss(z_mean, z_log_var):\n",
    "        return -0.5 * torch.sum(1 + z_log_var - z_mean.pow(2) - z_log_var.exp())\n",
    "    \n",
    "def recon_loss(inputs, outputs):\n",
    "    return F.mse_loss(inputs, outputs, reduction='sum')\n",
    "\n",
    "class VAEModule(BaseModule):\n",
    "    def __init__(self):\n",
    "        model = VAE()\n",
    "        super().__init__(model)\n",
    "        self.save_hyperparameters()\n",
    "\n",
    "    def forward(self, x, y):\n",
    "        return self.model(x, None, y)\n",
    "\n",
    "    def step(self, batch, batch_idx, mode = 'train'):\n",
    "        x, y = batch\n",
    "        outputs, outputs_masked, z, z_mean, z_log_var = self(x, y)\n",
    "        loss = {}\n",
    "        loss['recon_loss_0'] = recon_loss(x, outputs[0])\n",
    "        loss['kl_loss'] = kl_loss(z_mean, z_log_var)\n",
    "        loss['loss'] = loss['recon_loss_0'] + loss['kl_loss']\n",
    "        \n",
    "        self.log_dict({f\"{mode}_{key}\": val.item() for key, val in loss.items()}, sync_dist=True, prog_bar=True)\n",
    "        return loss['loss']\n",
    "\n",
    "from softadapt import SoftAdapt, NormalizedSoftAdapt, LossWeightedSoftAdapt\n",
    "class VAEModuleSoftAdapt(BaseModule):\n",
    "    def __init__(self):\n",
    "        model = VAE()\n",
    "        super().__init__(model)\n",
    "        self.save_hyperparameters()\n",
    "        self.loss = VAELoss()\n",
    "\n",
    "    def forward(self, x, y):\n",
    "        return self.model(x, None, y)\n",
    "\n",
    "    def step(self, batch, batch_idx, mode = 'train'):\n",
    "        x, y = batch\n",
    "        outputs, outputs_masked, z, z_mean, z_log_var = self(x, y)\n",
    "\n",
    "        loss_dict = self.loss((x, None, y), (outputs, outputs_masked, z, z_mean, z_log_var), mode == 'train')\n",
    "\n",
    "        self.log_dict({f\"{mode}_{key}\": val.item() for key, val in loss_dict.items()}, sync_dist=True, prog_bar=True)\n",
    "        return loss_dict['loss']"
   ]
  },
  {
   "cell_type": "code",
   "execution_count": null,
   "metadata": {},
   "outputs": [],
   "source": [
    "from lightning_extensions import ExtendedTrainer\n",
    "\n",
    "model = VAEModule()\n",
    "model_name = \"VAE-convolutional\"\n",
    "trainer = ExtendedTrainer(project_name=\"MTVAEs_SoftAdapt\", max_epochs=30, model_name=model_name)\n",
    "trainer.fit(model, train_loader, val_loader)"
   ]
  },
  {
   "cell_type": "code",
   "execution_count": 6,
   "metadata": {},
   "outputs": [
    {
     "name": "stderr",
     "output_type": "stream",
     "text": [
      "/Home/siv34/edzak2974/.conda/envs/pytorch2.1/lib/python3.10/site-packages/torch/nn/modules/lazy.py:180: UserWarning: Lazy modules are a new feature under heavy development so changes to the API or functionality can happen at any moment.\n",
      "  warnings.warn('Lazy modules are a new feature under heavy development '\n",
      "/Home/siv34/edzak2974/.conda/envs/pytorch2.1/lib/python3.10/site-packages/lightning/fabric/plugins/environments/slurm.py:191: The `srun` command is available on your system but is not used. HINT: If your intention is to run Lightning on SLURM, prepend your python command with `srun` like so: srun python /Home/siv34/edzak2974/.conda/envs/pytorch2.1/lib/pyt ...\n",
      "GPU available: True (cuda), used: True\n",
      "TPU available: False, using: 0 TPU cores\n",
      "IPU available: False, using: 0 IPUs\n",
      "HPU available: False, using: 0 HPUs\n"
     ]
    },
    {
     "data": {
      "text/html": [
       "wandb version 0.16.1 is available!  To upgrade, please run:\n",
       " $ pip install wandb --upgrade"
      ],
      "text/plain": [
       "<IPython.core.display.HTML object>"
      ]
     },
     "metadata": {},
     "output_type": "display_data"
    },
    {
     "data": {
      "text/html": [
       "Tracking run with wandb version 0.16.0"
      ],
      "text/plain": [
       "<IPython.core.display.HTML object>"
      ]
     },
     "metadata": {},
     "output_type": "display_data"
    },
    {
     "data": {
      "text/html": [
       "Run data is saved locally in <code>./wandb/run-20231219_224348-ky07gzgs</code>"
      ],
      "text/plain": [
       "<IPython.core.display.HTML object>"
      ]
     },
     "metadata": {},
     "output_type": "display_data"
    },
    {
     "data": {
      "text/html": [
       "Syncing run <strong><a href='https://wandb.ai/edvardsz/MTVAEs_SoftAdapt/runs/ky07gzgs' target=\"_blank\">VAE-convolutional-softadapt</a></strong> to <a href='https://wandb.ai/edvardsz/MTVAEs_SoftAdapt' target=\"_blank\">Weights & Biases</a> (<a href='https://wandb.me/run' target=\"_blank\">docs</a>)<br/>"
      ],
      "text/plain": [
       "<IPython.core.display.HTML object>"
      ]
     },
     "metadata": {},
     "output_type": "display_data"
    },
    {
     "data": {
      "text/html": [
       " View project at <a href='https://wandb.ai/edvardsz/MTVAEs_SoftAdapt' target=\"_blank\">https://wandb.ai/edvardsz/MTVAEs_SoftAdapt</a>"
      ],
      "text/plain": [
       "<IPython.core.display.HTML object>"
      ]
     },
     "metadata": {},
     "output_type": "display_data"
    },
    {
     "data": {
      "text/html": [
       " View run at <a href='https://wandb.ai/edvardsz/MTVAEs_SoftAdapt/runs/ky07gzgs' target=\"_blank\">https://wandb.ai/edvardsz/MTVAEs_SoftAdapt/runs/ky07gzgs</a>"
      ],
      "text/plain": [
       "<IPython.core.display.HTML object>"
      ]
     },
     "metadata": {},
     "output_type": "display_data"
    },
    {
     "name": "stderr",
     "output_type": "stream",
     "text": [
      "/Home/siv34/edzak2974/.conda/envs/pytorch2.1/lib/python3.10/site-packages/lightning/pytorch/callbacks/model_checkpoint.py:630: Checkpoint directory /Home/siv34/edzak2974/projects/MastersThesis/src/checkpoints exists and is not empty.\n",
      "LOCAL_RANK: 0 - CUDA_VISIBLE_DEVICES: [0,1,2,3,4,5,6,7]\n",
      "\n",
      "  | Name  | Type    | Params\n",
      "----------------------------------\n",
      "0 | model | VAE     | 811 K \n",
      "1 | loss  | VAELoss | 0     \n",
      "----------------------------------\n",
      "811 K     Trainable params\n",
      "0         Non-trainable params\n",
      "811 K     Total params\n",
      "3.245     Total estimated model params size (MB)\n"
     ]
    },
    {
     "name": "stdout",
     "output_type": "stream",
     "text": [
      "                                                                            "
     ]
    },
    {
     "name": "stderr",
     "output_type": "stream",
     "text": [
      "/Home/siv34/edzak2974/.conda/envs/pytorch2.1/lib/python3.10/site-packages/lightning/pytorch/trainer/connectors/data_connector.py:441: The 'val_dataloader' does not have many workers which may be a bottleneck. Consider increasing the value of the `num_workers` argument` to `num_workers=255` in the `DataLoader` to improve performance.\n",
      "/Home/siv34/edzak2974/.conda/envs/pytorch2.1/lib/python3.10/site-packages/lightning/pytorch/trainer/connectors/data_connector.py:441: The 'train_dataloader' does not have many workers which may be a bottleneck. Consider increasing the value of the `num_workers` argument` to `num_workers=255` in the `DataLoader` to improve performance.\n"
     ]
    },
    {
     "name": "stdout",
     "output_type": "stream",
     "text": [
      "Epoch 29: 100%|██████████| 600/600 [00:10<00:00, 56.25it/s, v_num=gzgs, train_recon_loss_0=3.09e+3, train_kl_loss=762.0, train_loss=2.69e+3, val_recon_loss_0=2.79e+3, val_kl_loss=728.0, val_loss=2.43e+3] "
     ]
    },
    {
     "name": "stderr",
     "output_type": "stream",
     "text": [
      "`Trainer.fit` stopped: `max_epochs=30` reached.\n"
     ]
    },
    {
     "name": "stdout",
     "output_type": "stream",
     "text": [
      "Epoch 29: 100%|██████████| 600/600 [00:10<00:00, 56.24it/s, v_num=gzgs, train_recon_loss_0=3.09e+3, train_kl_loss=762.0, train_loss=2.69e+3, val_recon_loss_0=2.79e+3, val_kl_loss=728.0, val_loss=2.43e+3]\n"
     ]
    },
    {
     "name": "stderr",
     "output_type": "stream",
     "text": [
      "wandb: WARNING Source type is set to 'repo' but some required information is missing from the environment. A job will not be created from this run. See https://docs.wandb.ai/guides/launch/create-job\n"
     ]
    },
    {
     "data": {
      "text/html": [
       " View run <strong style=\"color:#cdcd00\">VAE-convolutional-softadapt</strong> at: <a href='https://wandb.ai/edvardsz/MTVAEs_SoftAdapt/runs/ky07gzgs' target=\"_blank\">https://wandb.ai/edvardsz/MTVAEs_SoftAdapt/runs/ky07gzgs</a><br/>Synced 6 W&B file(s), 0 media file(s), 11 artifact file(s) and 0 other file(s)"
      ],
      "text/plain": [
       "<IPython.core.display.HTML object>"
      ]
     },
     "metadata": {},
     "output_type": "display_data"
    }
   ],
   "source": [
    "from lightning_extensions import ExtendedTrainer\n",
    "\n",
    "model = VAEModuleSoftAdapt()\n",
    "model_name = \"VAE-convolutional-softadapt\"\n",
    "trainer = ExtendedTrainer(project_name=\"MTVAEs_SoftAdapt\", max_epochs=30, model_name=model_name)\n",
    "trainer.fit(model, train_loader, val_loader)"
   ]
  },
  {
   "cell_type": "code",
   "execution_count": null,
   "metadata": {},
   "outputs": [],
   "source": []
  }
 ],
 "metadata": {
  "kernelspec": {
   "display_name": "pytorch2.1",
   "language": "python",
   "name": "python3"
  },
  "language_info": {
   "codemirror_mode": {
    "name": "ipython",
    "version": 3
   },
   "file_extension": ".py",
   "mimetype": "text/x-python",
   "name": "python",
   "nbconvert_exporter": "python",
   "pygments_lexer": "ipython3",
   "version": "3.10.13"
  }
 },
 "nbformat": 4,
 "nbformat_minor": 2
}
