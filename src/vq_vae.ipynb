{
 "cells": [
  {
   "cell_type": "code",
   "execution_count": 1,
   "metadata": {},
   "outputs": [],
   "source": [
    "import torch\n",
    "from datasets import load_mnist, get_observation_pixels\n",
    "import numpy as np\n",
    "import matplotlib.pyplot as plt\n",
    "import torch.optim as optim\n",
    "\n",
    "BATCH_SIZE = 100\n",
    "train_loader, test_loader, val_loader = load_mnist(BATCH_SIZE)\n",
    "\n",
    "from config import load_config\n",
    "config = load_config(\"vq_vae\")\n",
    "\n",
    "print(type(config))"
   ]
  },
  {
   "cell_type": "code",
   "execution_count": 2,
   "metadata": {},
   "outputs": [],
   "source": [
    "from models import VQVAE\n",
    "import pytorch_lightning as pl\n",
    "from trainers import BaseTrainer\n",
    "\n",
    "class VAETrainer(BaseTrainer):\n",
    "    def __init__(self, num_embeddings, embedding_dim):\n",
    "        model = VQVAE(num_embeddings, embedding_dim)\n",
    "        super(VAETrainer, self).__init__(model)\n",
    "        \n",
    "    def forward(self, x, x_cond, y):\n",
    "        return self.model(x)\n",
    "    \n",
    "    def step(self, batch, batch_idx, mode = 'train'):\n",
    "        x, x_cond, y = batch\n",
    "        x_hat, quantized, latent, embedding_indices = self(x, x_cond, y)\n",
    "        loss = self.model.loss(latent, quantized, x_hat, x)\n",
    "        self.log_dict({f\"{mode}_{key}\": val.item() for key, val in loss.items()}, sync_dist=True, prog_bar=True)\n",
    "        return loss['loss']\n",
    "    \n",
    "    def decode(self, z):\n",
    "        return self.model.decode(z)"
   ]
  },
  {
   "cell_type": "code",
   "execution_count": 3,
   "metadata": {},
   "outputs": [
    {
     "name": "stdout",
     "output_type": "stream",
     "text": [
      "model_params {'num_embeddings': 128, 'embedding_dim': 64}\n",
      "parameter_string 128_64\n"
     ]
    },
    {
     "ename": "AttributeError",
     "evalue": "'SuperTrainer' object has no attribute 'model_name_with_params'",
     "output_type": "error",
     "traceback": [
      "\u001b[0;31m---------------------------------------------------------------------------\u001b[0m",
      "\u001b[0;31mAttributeError\u001b[0m                            Traceback (most recent call last)",
      "\u001b[1;32m/Home/siv34/edzak2974/projects/MastersThesis/src/vq_vae.ipynb Cell 3\u001b[0m line \u001b[0;36m5\n\u001b[1;32m      <a href='vscode-notebook-cell://ssh-remote%2Bbirget/Home/siv34/edzak2974/projects/MastersThesis/src/vq_vae.ipynb#W2sdnNjb2RlLXJlbW90ZQ%3D%3D?line=0'>1</a>\u001b[0m model \u001b[39m=\u001b[39m VAETrainer(\u001b[39m*\u001b[39m\u001b[39m*\u001b[39mconfig[\u001b[39m'\u001b[39m\u001b[39mmodel_params\u001b[39m\u001b[39m'\u001b[39m])\n\u001b[1;32m      <a href='vscode-notebook-cell://ssh-remote%2Bbirget/Home/siv34/edzak2974/projects/MastersThesis/src/vq_vae.ipynb#W2sdnNjb2RlLXJlbW90ZQ%3D%3D?line=2'>3</a>\u001b[0m \u001b[39mfrom\u001b[39;00m \u001b[39mtrainers\u001b[39;00m \u001b[39mimport\u001b[39;00m SuperTrainer\n\u001b[0;32m----> <a href='vscode-notebook-cell://ssh-remote%2Bbirget/Home/siv34/edzak2974/projects/MastersThesis/src/vq_vae.ipynb#W2sdnNjb2RlLXJlbW90ZQ%3D%3D?line=4'>5</a>\u001b[0m trainer \u001b[39m=\u001b[39m SuperTrainer(\u001b[39m*\u001b[39;49m\u001b[39m*\u001b[39;49mconfig[\u001b[39m'\u001b[39;49m\u001b[39mtrainer_params\u001b[39;49m\u001b[39m'\u001b[39;49m], model_params \u001b[39m=\u001b[39;49m config[\u001b[39m'\u001b[39;49m\u001b[39mmodel_params\u001b[39;49m\u001b[39m'\u001b[39;49m])\n\u001b[1;32m      <a href='vscode-notebook-cell://ssh-remote%2Bbirget/Home/siv34/edzak2974/projects/MastersThesis/src/vq_vae.ipynb#W2sdnNjb2RlLXJlbW90ZQ%3D%3D?line=5'>6</a>\u001b[0m trainer\u001b[39m.\u001b[39mfit(model, train_loader, val_loader)\n\u001b[1;32m      <a href='vscode-notebook-cell://ssh-remote%2Bbirget/Home/siv34/edzak2974/projects/MastersThesis/src/vq_vae.ipynb#W2sdnNjb2RlLXJlbW90ZQ%3D%3D?line=6'>7</a>\u001b[0m \u001b[39m#save\u001b[39;00m\n",
      "File \u001b[0;32m~/projects/MastersThesis/src/trainers/super_trainer.py:18\u001b[0m, in \u001b[0;36mSuperTrainer.__init__\u001b[0;34m(self, model_name, max_epochs, model_params, devices)\u001b[0m\n\u001b[1;32m     14\u001b[0m parameter_string \u001b[39m=\u001b[39m \u001b[39m'\u001b[39m\u001b[39m_\u001b[39m\u001b[39m'\u001b[39m\u001b[39m.\u001b[39mjoin([\u001b[39mstr\u001b[39m(value) \u001b[39mfor\u001b[39;00m key, value \u001b[39min\u001b[39;00m model_params\u001b[39m.\u001b[39mitems()])\n\u001b[1;32m     16\u001b[0m \u001b[39mprint\u001b[39m(\u001b[39m'\u001b[39m\u001b[39mparameter_string\u001b[39m\u001b[39m'\u001b[39m, parameter_string)\n\u001b[0;32m---> 18\u001b[0m \u001b[39mself\u001b[39;49m\u001b[39m.\u001b[39;49mmodel_name_with_params \n\u001b[1;32m     21\u001b[0m \u001b[39mself\u001b[39m\u001b[39m.\u001b[39m_epochs \u001b[39m=\u001b[39m max_epochs\n\u001b[1;32m     22\u001b[0m logger \u001b[39m=\u001b[39m TensorBoardLogger(\u001b[39m'\u001b[39m\u001b[39mlogs/\u001b[39m\u001b[39m'\u001b[39m, name\u001b[39m=\u001b[39m\u001b[39mself\u001b[39m\u001b[39m.\u001b[39mmodel_name_with_params)\n",
      "\u001b[0;31mAttributeError\u001b[0m: 'SuperTrainer' object has no attribute 'model_name_with_params'"
     ]
    }
   ],
   "source": [
    "model = VAETrainer(**config['model_params'])\n",
    "\n",
    "from trainers import SuperTrainer\n",
    "\n",
    "pr\n",
    "\n",
    "trainer = SuperTrainer(config)\n",
    "print()\n",
    "trainer.fit(model, train_loader, val_loader)\n",
    "#save\n",
    "trainer.save_model_checkpoint()\n",
    "\n"
   ]
  },
  {
   "cell_type": "code",
   "execution_count": null,
   "metadata": {},
   "outputs": [],
   "source": []
  }
 ],
 "metadata": {
  "kernelspec": {
   "display_name": "pytorch_masters",
   "language": "python",
   "name": "python3"
  },
  "language_info": {
   "codemirror_mode": {
    "name": "ipython",
    "version": 3
   },
   "file_extension": ".py",
   "mimetype": "text/x-python",
   "name": "python",
   "nbconvert_exporter": "python",
   "pygments_lexer": "ipython3",
   "version": "3.10.11"
  },
  "orig_nbformat": 4
 },
 "nbformat": 4,
 "nbformat_minor": 2
}
